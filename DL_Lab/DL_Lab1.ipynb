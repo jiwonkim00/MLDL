{
  "nbformat": 4,
  "nbformat_minor": 0,
  "metadata": {
    "colab": {
      "provenance": []
    },
    "kernelspec": {
      "name": "python3",
      "display_name": "Python 3"
    },
    "language_info": {
      "name": "python"
    }
  },
  "cells": [
    {
      "cell_type": "markdown",
      "source": [
        "# Practice 1: Tensor Operations & Autograd Engine"
      ],
      "metadata": {
        "id": "DttgkWbSA0Dl"
      }
    },
    {
      "cell_type": "markdown",
      "source": [
        "## Lecture Part"
      ],
      "metadata": {
        "id": "jEA4KOGuDkHz"
      }
    },
    {
      "cell_type": "code",
      "source": [
        "import torch"
      ],
      "metadata": {
        "id": "Uj9d8wk68B5S"
      },
      "execution_count": null,
      "outputs": []
    },
    {
      "cell_type": "code",
      "source": [
        "# Tensor Generations\n",
        "t1 = torch.zeros(2,3)\n",
        "print(t1)\n",
        "t2 = torch.arange(4)\n",
        "print(t2)\n",
        "t3 = torch.rand(2,2)\n",
        "print(t3)"
      ],
      "metadata": {
        "id": "RCOwDw9XAyjw",
        "colab": {
          "base_uri": "https://localhost:8080/"
        },
        "outputId": "4cd6ef3e-4175-4d09-e545-bec1108970b8"
      },
      "execution_count": null,
      "outputs": [
        {
          "output_type": "stream",
          "name": "stdout",
          "text": [
            "tensor([[0., 0., 0.],\n",
            "        [0., 0., 0.]])\n",
            "tensor([0, 1, 2, 3])\n",
            "tensor([[0.6194, 0.7480],\n",
            "        [0.0853, 0.0239]])\n"
          ]
        }
      ]
    },
    {
      "cell_type": "code",
      "source": [
        "# Tensor Attributes - shape, dtype, device\n",
        "t = torch.zeros(2,3)\n",
        "# t = torch.arange(4)\n",
        "# t = torch.rand(2,2)\n",
        "print(t)\n",
        "print(t.shape)\n",
        "print(t.dtype)\n",
        "print(t.device)"
      ],
      "metadata": {
        "colab": {
          "base_uri": "https://localhost:8080/"
        },
        "id": "V4W-62NGUDPV",
        "outputId": "39303f30-ad91-4b60-cad5-84ee9704fb81"
      },
      "execution_count": null,
      "outputs": [
        {
          "output_type": "stream",
          "name": "stdout",
          "text": [
            "tensor([[0., 0., 0.],\n",
            "        [0., 0., 0.]])\n",
            "torch.Size([2, 3])\n",
            "torch.float32\n",
            "cpu\n"
          ]
        }
      ]
    },
    {
      "cell_type": "code",
      "source": [
        "# Tensor Attributes - .to(device)\n",
        "t1 = torch.zeros(2,3)\n",
        "print(t1.device)\n",
        "\n",
        "device = torch.device('cuda' if torch.cuda.is_available() else 'cpu')\n",
        "t1_gpu = t1.to(device)\n",
        "print(t1_gpu.device)"
      ],
      "metadata": {
        "colab": {
          "base_uri": "https://localhost:8080/"
        },
        "id": "EGd82iG-8a5U",
        "outputId": "c7d81a44-bfb0-4a42-93d5-4078731bcca4"
      },
      "execution_count": null,
      "outputs": [
        {
          "output_type": "stream",
          "name": "stdout",
          "text": [
            "cpu\n",
            "cpu\n"
          ]
        }
      ]
    },
    {
      "cell_type": "code",
      "source": [
        "# Tensor Shape - reshape\n",
        "t1 = torch.arange(6)\n",
        "print(t1.shape)\n",
        "print(t1)\n",
        "t1_reshaped = t1.reshape(2,3)\n",
        "print(t1_reshaped.shape)\n",
        "print(t1_reshaped)"
      ],
      "metadata": {
        "colab": {
          "base_uri": "https://localhost:8080/"
        },
        "id": "hBoxoS0EUJHB",
        "outputId": "e9156378-092e-42c1-93d0-2018a8cf8e21"
      },
      "execution_count": null,
      "outputs": [
        {
          "output_type": "stream",
          "name": "stdout",
          "text": [
            "torch.Size([6])\n",
            "tensor([0, 1, 2, 3, 4, 5])\n",
            "torch.Size([2, 3])\n",
            "tensor([[0, 1, 2],\n",
            "        [3, 4, 5]])\n"
          ]
        }
      ]
    },
    {
      "cell_type": "code",
      "source": [
        "# Tensor Shape - squeeze, unsqueeze\n",
        "t1 = torch.arange(6).reshape(2,3)\n",
        "print(t1)\n",
        "t1_unsqueeze = t1.unsqueeze(1)\n",
        "print(f'<Using unsqueeze>\\n{t1_unsqueeze.shape}\\n{t1_unsqueeze}')\n",
        "t1_reshape = t1.reshape(2,1,3)\n",
        "print(f'<Using reshape>\\n{t1_reshape.shape}\\n{t1_reshape}')"
      ],
      "metadata": {
        "colab": {
          "base_uri": "https://localhost:8080/"
        },
        "id": "lGhg9cxOUQOL",
        "outputId": "d1163fb9-616c-4748-98c9-080cb446ff3a"
      },
      "execution_count": null,
      "outputs": [
        {
          "output_type": "stream",
          "name": "stdout",
          "text": [
            "tensor([[0, 1, 2],\n",
            "        [3, 4, 5]])\n",
            "<Using unsqueeze>\n",
            "torch.Size([2, 1, 3])\n",
            "tensor([[[0, 1, 2]],\n",
            "\n",
            "        [[3, 4, 5]]])\n",
            "<Using reshape>\n",
            "torch.Size([2, 1, 3])\n",
            "tensor([[[0, 1, 2]],\n",
            "\n",
            "        [[3, 4, 5]]])\n"
          ]
        }
      ]
    },
    {
      "cell_type": "code",
      "source": [
        "# Tensor Shape - permute\n",
        "t1 = torch.arange(6).reshape(2,3)\n",
        "print(t1)\n",
        "\n",
        "t1_reshape = t1.reshape(3,2)\n",
        "t1_permute = t1.permute(1,0)\n",
        "print(t1_reshape)\n",
        "print(t1_permute)"
      ],
      "metadata": {
        "colab": {
          "base_uri": "https://localhost:8080/"
        },
        "id": "4-mavR129Iho",
        "outputId": "f233169b-876c-4efb-b916-e37ee0eed63f"
      },
      "execution_count": null,
      "outputs": [
        {
          "output_type": "stream",
          "name": "stdout",
          "text": [
            "tensor([[0, 1, 2],\n",
            "        [3, 4, 5]])\n",
            "tensor([[0, 1],\n",
            "        [2, 3],\n",
            "        [4, 5]])\n",
            "tensor([[0, 3],\n",
            "        [1, 4],\n",
            "        [2, 5]])\n"
          ]
        }
      ]
    },
    {
      "cell_type": "code",
      "source": [
        "# Matrix Operations - multiplication\n",
        "t1 = torch.arange(6).reshape(2,3)\n",
        "t2 = torch.arange(12).reshape(4,3)\n",
        "print(f'<t1>\\n{t1}\\n')\n",
        "print(f'<t2>\\n{t2}')"
      ],
      "metadata": {
        "id": "jxtd1ujhES2U",
        "colab": {
          "base_uri": "https://localhost:8080/"
        },
        "outputId": "740edd57-0cb0-4b86-fe06-c66a97aa5b17"
      },
      "execution_count": null,
      "outputs": [
        {
          "output_type": "stream",
          "name": "stdout",
          "text": [
            "<t1>\n",
            "tensor([[0, 1, 2],\n",
            "        [3, 4, 5]])\n",
            "\n",
            "<t2>\n",
            "tensor([[ 0,  1,  2],\n",
            "        [ 3,  4,  5],\n",
            "        [ 6,  7,  8],\n",
            "        [ 9, 10, 11]])\n"
          ]
        }
      ]
    },
    {
      "cell_type": "code",
      "source": [
        "# Matrix Operations - multiplication\n",
        "t2 = t2.transpose(0,1)\n",
        "print(f'<t1> {t1.shape}')\n",
        "print(f'<t2> {t2.shape}')\n",
        "\n",
        "t3 = t1 @ t2\n",
        "# Same as torch.matmul(t1, t2)\n",
        "print(f'<t3> {t3.shape}')"
      ],
      "metadata": {
        "colab": {
          "base_uri": "https://localhost:8080/"
        },
        "id": "wbki_HS6Uyjo",
        "outputId": "6b8cfc6c-efb6-4dd7-d9dc-2f858fd478d6"
      },
      "execution_count": null,
      "outputs": [
        {
          "output_type": "stream",
          "name": "stdout",
          "text": [
            "<t1> torch.Size([2, 3])\n",
            "<t2> torch.Size([3, 4])\n",
            "<t3> torch.Size([2, 4])\n"
          ]
        }
      ]
    },
    {
      "cell_type": "code",
      "source": [
        "# Matrix Operations - argmax, sum\n",
        "t1 = torch.tensor([\n",
        "    [3,6,4],\n",
        "    [2,4,7]\n",
        "])\n",
        "print(f'<t1>\\nshape: {t1.shape}\\n{t1}')"
      ],
      "metadata": {
        "colab": {
          "base_uri": "https://localhost:8080/"
        },
        "id": "orbpL5J3VF8d",
        "outputId": "d9e7cd8e-d7e3-4eba-d7ee-ac7364793b65"
      },
      "execution_count": null,
      "outputs": [
        {
          "output_type": "stream",
          "name": "stdout",
          "text": [
            "<t1>\n",
            "shape: torch.Size([2, 3])\n",
            "tensor([[3, 6, 4],\n",
            "        [2, 4, 7]])\n"
          ]
        }
      ]
    },
    {
      "cell_type": "code",
      "source": [
        "# Matrix Operations - argmax, sum\n",
        "row_argmax = torch.argmax(t1, dim=1)\n",
        "row_argmax_keepdim = torch.argmax(t1, dim=1, keepdim=True)\n",
        "row_sum = torch.sum(t1, dim=-1)\n",
        "print(row_argmax)\n",
        "print(row_argmax_keepdim)\n",
        "print(row_sum)"
      ],
      "metadata": {
        "colab": {
          "base_uri": "https://localhost:8080/"
        },
        "id": "UH2R8ExX9kxl",
        "outputId": "9be0ff0d-159e-4956-d5b1-824b68ffa9bf"
      },
      "execution_count": null,
      "outputs": [
        {
          "output_type": "stream",
          "name": "stdout",
          "text": [
            "tensor([1, 2])\n",
            "tensor([[1],\n",
            "        [2]])\n",
            "tensor([13, 13])\n"
          ]
        }
      ]
    },
    {
      "cell_type": "code",
      "source": [
        "# Matrix Operations - argmax, sum\n",
        "col_argmax = torch.argmax(t1, dim=0)\n",
        "col_argmax_keepdim = torch.argmax(t1, dim=0, keepdim=True)\n",
        "col_sum = torch.sum(t1, dim=0)\n",
        "print(col_argmax)\n",
        "print(col_argmax_keepdim)\n",
        "print(col_sum)"
      ],
      "metadata": {
        "colab": {
          "base_uri": "https://localhost:8080/"
        },
        "id": "NRlVaRKU9nBj",
        "outputId": "1c166997-3d70-4dbb-9dd1-b8f2ef31ba55"
      },
      "execution_count": null,
      "outputs": [
        {
          "output_type": "stream",
          "name": "stdout",
          "text": [
            "tensor([0, 0, 1])\n",
            "tensor([[0, 0, 1]])\n",
            "tensor([ 5, 10, 11])\n"
          ]
        }
      ]
    },
    {
      "cell_type": "code",
      "source": [
        "# Matrix Operations - stack\n",
        "x1 = torch.tensor([1,2,3])\n",
        "x2 = torch.tensor([4,5,6])\n",
        "print(x1.shape, x2.shape)\n",
        "batch = torch.stack([x1, x2], dim=0)\n",
        "stacked = torch.stack([x1, x2], dim=1)\n",
        "print(f'<batch>\\n{batch.shape}\\n{batch}')\n",
        "print(f'<stacked>\\n{stacked.shape}\\n{stacked}')"
      ],
      "metadata": {
        "colab": {
          "base_uri": "https://localhost:8080/"
        },
        "id": "C-UVKRGJfqBN",
        "outputId": "98af352b-9dd0-4aaf-d34b-aa592056c6be"
      },
      "execution_count": null,
      "outputs": [
        {
          "output_type": "stream",
          "name": "stdout",
          "text": [
            "torch.Size([3]) torch.Size([3])\n",
            "<batch>\n",
            "torch.Size([2, 3])\n",
            "tensor([[1, 2, 3],\n",
            "        [4, 5, 6]])\n",
            "<stacked>\n",
            "torch.Size([3, 2])\n",
            "tensor([[1, 4],\n",
            "        [2, 5],\n",
            "        [3, 6]])\n"
          ]
        }
      ]
    },
    {
      "cell_type": "code",
      "source": [
        "# Matrix Operations - cat\n",
        "x1 = torch.tensor([1,2,3])\n",
        "x2 = torch.tensor([4,5,6])\n",
        "print(x1.shape, x2.shape)\n",
        "concat = torch.cat([x1, x2], dim=0)\n",
        "print(f'<concat>\\n{concat.shape}\\n{concat}')"
      ],
      "metadata": {
        "colab": {
          "base_uri": "https://localhost:8080/"
        },
        "id": "BiBi1D4J-YF8",
        "outputId": "d3ced72e-4e4c-490c-c0b5-eb7f3ebed8c5"
      },
      "execution_count": null,
      "outputs": [
        {
          "output_type": "stream",
          "name": "stdout",
          "text": [
            "torch.Size([3]) torch.Size([3])\n",
            "<concat>\n",
            "torch.Size([6])\n",
            "tensor([1, 2, 3, 4, 5, 6])\n"
          ]
        }
      ]
    },
    {
      "cell_type": "code",
      "source": [
        "x = torch.tensor(-2.0, requires_grad = True)\n",
        "y = torch.tensor(5.0, requires_grad = True)\n",
        "z = torch.tensor(-4.0, requires_grad = True)\n",
        "print(x.grad)\n",
        "f = (x + y) * z\n",
        "print(x.grad)\n",
        "\n",
        "f.backward()\n",
        "\n",
        "print(x.grad)\n",
        "print(y.grad)\n",
        "print(z.grad)"
      ],
      "metadata": {
        "colab": {
          "base_uri": "https://localhost:8080/"
        },
        "id": "wMDu5FP32K_y",
        "outputId": "8a74d1c1-f84f-46b5-c016-78f5e5669d6f"
      },
      "execution_count": null,
      "outputs": [
        {
          "output_type": "stream",
          "name": "stdout",
          "text": [
            "None\n",
            "None\n",
            "tensor(-4.)\n",
            "tensor(-4.)\n",
            "tensor(3.)\n"
          ]
        }
      ]
    },
    {
      "cell_type": "markdown",
      "source": [
        "## Team Question\n"
      ],
      "metadata": {
        "id": "tk9xnUm8A99E"
      }
    },
    {
      "cell_type": "markdown",
      "source": [
        "Referring the figure below, follow the guidelines.\n",
        "1. X, Y, b1, b2 are vectors, w1 & w2 are matrices.\n",
        " - Sizes of X & Y are defined in the code, size of z1 is 5.\n",
        "2. Cross-entropy loss is already implemented in the code.\n",
        "3. Generate parameters(w1, b1, w2, b2) with torch.randn.\n",
        "4. Print the gradients of parameters(w1, b1, w2, b2).\n",
        "\n",
        "<img src = \"https://drive.google.com/uc?id=1pyZiWipSU8v8NEoyfDDxIaRXOgNlFwon\" height = 400>"
      ],
      "metadata": {
        "id": "bCpgHuy1DSCH"
      }
    },
    {
      "cell_type": "code",
      "source": [
        "import torch\n",
        "import torch.nn.functional as F\n",
        "\"\"\"\n",
        "You can use F.relu() for ReLU layer.\n",
        "ex) y = F.relu(x)\n",
        "\"\"\"\n",
        "\n",
        "x = torch.ones(7) # (7)\n",
        "y = torch.zeros(3) # (3)\n",
        "\n",
        "# Generate w1, b1, w2, b2\n",
        "########## Your Code #########\n",
        "w1 = torch.randn(7,5, requires_grad=True) # (7) @ (7,5) = (5)\n",
        "b1 = torch.randn(5, requires_grad=True) # (5)\n",
        "w2 = torch.randn(5,3, requires_grad=True) # (5) @ (5,3) = (3)\n",
        "b2 = torch.randn(3, requires_grad=True) # (3)\n",
        "##############################\n",
        "\n",
        "# Compute z1\n",
        "########## Your Code #########\n",
        "z1 = x @ w1 + b1 # (5)\n",
        "##############################\n",
        "# Compute z2\n",
        "########## Your Code #########\n",
        "z2 = F.relu(z1) # (5)\n",
        "##############################\n",
        "# Compute z3\n",
        "########## Your Code #########\n",
        "z3 = z2 @ w2 + b2 # (3)\n",
        "##############################\n",
        "\n",
        "# Calculate loss\n",
        "loss = F.binary_cross_entropy_with_logits(z3, y)\n",
        "\n",
        "# Backpropagation\n",
        "########## Your Code #########\n",
        "loss.backward()\n",
        "##############################\n",
        "\n",
        "# (4) Print the gradient of w and b\n",
        "########## Your Code #########\n",
        "print(w1.grad)\n",
        "print(b1.grad)\n",
        "print(w2.grad)\n",
        "print(b2.grad)\n",
        "##############################"
      ],
      "metadata": {
        "id": "jFBX-0INA89z",
        "colab": {
          "base_uri": "https://localhost:8080/"
        },
        "outputId": "f1b242e7-bb68-4661-af3b-41fc468a6a0b"
      },
      "execution_count": null,
      "outputs": [
        {
          "output_type": "stream",
          "name": "stdout",
          "text": [
            "tensor([[-0.2667,  0.3673,  0.2184,  0.3299,  0.0000],\n",
            "        [-0.2667,  0.3673,  0.2184,  0.3299,  0.0000],\n",
            "        [-0.2667,  0.3673,  0.2184,  0.3299,  0.0000],\n",
            "        [-0.2667,  0.3673,  0.2184,  0.3299,  0.0000],\n",
            "        [-0.2667,  0.3673,  0.2184,  0.3299,  0.0000],\n",
            "        [-0.2667,  0.3673,  0.2184,  0.3299,  0.0000],\n",
            "        [-0.2667,  0.3673,  0.2184,  0.3299,  0.0000]])\n",
            "tensor([-0.2667,  0.3673,  0.2184,  0.3299,  0.0000])\n",
            "tensor([[2.9693e-04, 1.2682e-01, 9.1460e-02],\n",
            "        [5.5497e-04, 2.3703e-01, 1.7094e-01],\n",
            "        [1.8701e-03, 7.9873e-01, 5.7602e-01],\n",
            "        [2.4797e-03, 1.0591e+00, 7.6379e-01],\n",
            "        [0.0000e+00, 0.0000e+00, 0.0000e+00]])\n",
            "tensor([0.0008, 0.3273, 0.2361])\n"
          ]
        }
      ]
    },
    {
      "cell_type": "markdown",
      "source": [
        "# Practice 2: Implementation of Simple Model Training"
      ],
      "metadata": {
        "id": "z6hsVmHzYiEf"
      }
    },
    {
      "cell_type": "markdown",
      "source": [
        "## Lecture Part"
      ],
      "metadata": {
        "id": "y40jqS9Gceao"
      }
    },
    {
      "cell_type": "code",
      "source": [
        "from torch.utils.data import Dataset, DataLoader\n",
        "import csv\n",
        "\n",
        "class SimpleDataset(Dataset):\n",
        "  def __init__(self, csv_file = None, root_dir = None):\n",
        "    with open(csv_file) as file:\n",
        "      self.annotations = file.readlines()\n",
        "    self.root_dir = root_dir\n",
        "\n",
        "  def __getitem__(self, idx):\n",
        "    x_path, y = self.annotations[idx]\n",
        "    x = self.read(x_path) # x can be image, numpy data, word, etc.\n",
        "    return x, y\n",
        "\n",
        "  def __len__(self):\n",
        "    return len(self.annotations)\n",
        "\n",
        "  def read(self, x_path):\n",
        "    # Read image, numpy dat, word, etc.\n",
        "    return x_path\n",
        "\n",
        "dataset = SimpleDataset() # Error occurs since csv_file is None\n",
        "dataloader = DataLoader(dataset, batch_size=16, shuffle=True)"
      ],
      "metadata": {
        "id": "pZVAFU14HN21"
      },
      "execution_count": null,
      "outputs": []
    },
    {
      "cell_type": "code",
      "source": [
        "def my_collate_fn(data):\n",
        "  max_len = 10\n",
        "  batch = []\n",
        "  for x, y in data:\n",
        "    x_padded = torch.cat([x, torch.zeros(max_len-x.shape[0])])\n",
        "    batch.append(x_padded)\n",
        "  return torch.stack(batch, dim=0)\n",
        "\n",
        "dataset = SimpleDataset() # Error occurs since csv_file is None\n",
        "dataloader = DataLoader(dataset, batch_size=16, collate_fn = my_collate_fn, shuffle=True)"
      ],
      "metadata": {
        "id": "pYth_GXyL_W0"
      },
      "execution_count": null,
      "outputs": []
    },
    {
      "cell_type": "code",
      "source": [
        "import torch.nn as nn\n",
        "\n",
        "class simple_model(nn.Module):\n",
        "    def __init__(self):\n",
        "        super(simple_model, self).__init__()\n",
        "        self.fc_layer = nn.Linear(16, 64)\n",
        "        self.relu = nn.functional.relu\n",
        "\n",
        "    def forward(self, x):\n",
        "        x = self.fc_layer(x)\n",
        "        x = self.relu(x)\n",
        "        return x\n",
        "\n",
        "model = simple_model()\n",
        "print(model)"
      ],
      "metadata": {
        "colab": {
          "base_uri": "https://localhost:8080/"
        },
        "id": "1nvn2ZLWKIZh",
        "outputId": "1c9382fa-18d1-4b64-9fe8-c03171139f7c"
      },
      "execution_count": null,
      "outputs": [
        {
          "output_type": "stream",
          "name": "stdout",
          "text": [
            "simple_model(\n",
            "  (fc_layer): Linear(in_features=16, out_features=64, bias=True)\n",
            ")\n"
          ]
        }
      ]
    },
    {
      "cell_type": "code",
      "source": [
        "def train(model, scheduler, optim, loss_fn, train_loader, epochs, device):\n",
        "    for epoch in range(epochs):\n",
        "        train_loss = 0.0\n",
        "        model.train() # Training mode\n",
        "        for batch in train_loader:\n",
        "            optim.zero_grad() # Set grad to zero for each batch\n",
        "\n",
        "            input, target = batch_size\n",
        "            # Copy input & target to device where model exists\n",
        "            input = input.to(device)\n",
        "            target = target.to(device)\n",
        "\n",
        "            output = model(input) # Forward\n",
        "\n",
        "            loss = loss_fn(output, target) # Loss function\n",
        "\n",
        "            loss.backward() # Backpropagation\n",
        "\n",
        "            optim.step() # Update parameters using defined optimizer\n",
        "\n",
        "            train_loss += loss.detach().item()\n",
        "        scheduler.step() # Update learning rate\n",
        "        train_loss /= len(train_loader.dataset)\n",
        "        print(f'Epoch: {epoch+1}, Training Loss: {train_loss}')"
      ],
      "metadata": {
        "id": "GBX56E8rF_op"
      },
      "execution_count": null,
      "outputs": []
    },
    {
      "cell_type": "code",
      "source": [
        "def test(model, loss_fn, device):\n",
        "    model.eval()\n",
        "    test_loss = 0.0\n",
        "    correct = 0\n",
        "\n",
        "    with torch.no_grad():\n",
        "        for batch in test_loader:\n",
        "            input, target = batch\n",
        "            input = input.to(device)\n",
        "            target = target.to(device)\n",
        "\n",
        "            output = model(input)\n",
        "\n",
        "            loss = loss_fn(output, target)\n",
        "            test_loss += loss.detach().item()\n",
        "\n",
        "            pred = output.argmax(dim=1)\n",
        "            correct += pred.eq(target.view_as(pred)).sum()\n",
        "        test_loss /= len(test_loader.dataset)\n",
        "        print(f'Test Loss: {test_loss},\\\n",
        "        \\t Accuracy: {100. * correct / len(test_loader.dataset)}%')"
      ],
      "metadata": {
        "id": "ni4zt0yOGo40"
      },
      "execution_count": null,
      "outputs": []
    },
    {
      "cell_type": "markdown",
      "source": [
        "## Team Question"
      ],
      "metadata": {
        "id": "8ewJa21Pc-kI"
      }
    },
    {
      "cell_type": "markdown",
      "source": [
        "Given the information below, build the model and train & evaluate it.\n",
        " Use torch.nn.functional.relu for activation layer.\n",
        "\n",
        "- Input shape: (1, 28, 28)\n",
        "- fc1: Apply a linear transformation using nn.Linear function. Size of the output features should be 128\n",
        "- fc2: Apply a linear transformation using nn.Linear function. Size of the output features should be 64\n",
        "- Classifier: Apply a linear transformation. Size of the output features should be class size (10)\n",
        "\n",
        "![model.png](data:image/png;base64,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)"
      ],
      "metadata": {
        "id": "Drty7WOkdP4h"
      }
    },
    {
      "cell_type": "markdown",
      "source": [
        "### Data Preparation"
      ],
      "metadata": {
        "id": "Adot3QOk1rBX"
      }
    },
    {
      "cell_type": "code",
      "source": [
        "import torch\n",
        "from torch.utils.data import DataLoader\n",
        "from torchvision import datasets\n",
        "from torchvision.transforms import ToTensor\n",
        "\n",
        "# Run the codes to check the result.\n",
        "\n",
        "# Set dataset\n",
        "train_data = datasets.MNIST(\n",
        "    root=\"data\",\n",
        "    train=True,\n",
        "    download=True,\n",
        "    transform=ToTensor()\n",
        ")\n",
        "\n",
        "test_data = datasets.MNIST(\n",
        "    root=\"data\",\n",
        "    train=False,\n",
        "    download=True,\n",
        "    transform=ToTensor()\n",
        ")\n",
        "\n",
        "# Set dataloader\n",
        "batch_size = 64\n",
        "train_loader = DataLoader(train_data, batch_size=batch_size, shuffle=True)\n",
        "test_loader = DataLoader(test_data, batch_size=batch_size, shuffle=True)"
      ],
      "metadata": {
        "id": "0roQCUlHcd4F"
      },
      "execution_count": null,
      "outputs": []
    },
    {
      "cell_type": "code",
      "source": [
        "import matplotlib.pyplot as plt\n",
        "\n",
        "examples = enumerate(test_loader)\n",
        "batch_idx, (example_data, example_targets) = next(examples)\n",
        "print(\"example data shape: \", example_data.shape)\n",
        "\n",
        "fig = plt.figure()\n",
        "for i in range(6):\n",
        "  plt.subplot(2,3,i+1)\n",
        "  plt.tight_layout()\n",
        "  plt.imshow(example_data[i][0], cmap='gray', interpolation='none')\n",
        "  plt.title(\"Ground Truth: {}\".format(example_targets[i]))\n",
        "  plt.xticks([])\n",
        "  plt.yticks([])"
      ],
      "metadata": {
        "id": "HHgZjcNddC4r"
      },
      "execution_count": null,
      "outputs": []
    },
    {
      "cell_type": "markdown",
      "source": [
        "### Implement Simple Neural Network"
      ],
      "metadata": {
        "id": "-XyBD9s91uDo"
      }
    },
    {
      "cell_type": "code",
      "source": [
        "import torch.nn as nn\n",
        "import torch.nn.functional as F\n",
        "import torch.optim as optim\n",
        "\n",
        "class Simple_NN(nn.Module):\n",
        "    '''\n",
        "    Define the model using below information.\n",
        "    We need to use ReLU between linear layers.\n",
        "    - input shape: (1, 28, 28)\n",
        "    - fc1: apply a linear transformation. output features should be 128\n",
        "    - fc2: apply a linear transformation. output features should be 64\n",
        "    - classifier: apply a linear transformation. output features should be the class size (10)\n",
        "\n",
        "    * model : input -> fc1 -> relu -> fc2 -> relu -> classifier\n",
        "    * You can use nn.Linear() for fc layer\n",
        "     ex) fc = nn.Linear(input_dim, output_dim)\n",
        "         y = fc(x)\n",
        "    '''\n",
        "    def __init__(self):\n",
        "        super(Simple_NN, self).__init__()\n",
        "        ########## Your Code ##########\n",
        "        self.fc1 = nn.Linear(784, 128)\n",
        "        self.fc2 = nn.Linear(128, 64)\n",
        "        self.classifier = nn.Linear(64, 10)\n",
        "        ###############################\n",
        "\n",
        "    def forward(self, x):\n",
        "        x = x.reshape(-1, 784) # Note: To apply fc layer, input should be flattened\n",
        "        ########## Your Code ##########\n",
        "        x = self.fc1(x)\n",
        "        x = F.relu(x)\n",
        "        x = self.fc2(x)\n",
        "        x = F.relu(x)\n",
        "        x = self.classifier(x)\n",
        "        ###############################\n",
        "        return x\n",
        "\n",
        "model = Simple_NN()\n",
        "print(model)"
      ],
      "metadata": {
        "id": "vvD2BgEzYjjH"
      },
      "execution_count": null,
      "outputs": []
    },
    {
      "cell_type": "code",
      "source": [
        "from tqdm import tqdm\n",
        "\n",
        "def train(model, scheduler, optim, loss_fn, train_loader, epochs, device):\n",
        "    for epoch in range(epochs):\n",
        "        train_loss = 0.0\n",
        "\n",
        "        # (1) Set the mode\n",
        "        ########## Your Code ##########\n",
        "        model.train()\n",
        "        ##############################\n",
        "\n",
        "        for batch in tqdm(train_loader):\n",
        "            # (2) Initialize Gradients\n",
        "            ########## Your Code #########\n",
        "            optim.zero_grad()\n",
        "            ##############################\n",
        "\n",
        "            input, target = batch\n",
        "\n",
        "            # (3) Change the device of the input and target to device where model exists\n",
        "            ########## Your Code #########\n",
        "            input = input.to(device)\n",
        "            target = target.to(device)\n",
        "            ##############################\n",
        "\n",
        "            # (4) Get output\n",
        "            ########## Your Code #########\n",
        "            output = model(input)\n",
        "            ##############################\n",
        "\n",
        "            # (5) Get loss using loss_fn\n",
        "            loss = loss_fn(output, target)\n",
        "\n",
        "            # (6) Do Backpropagation\n",
        "            ########## Your Code #########\n",
        "            loss.backward()\n",
        "            ##############################\n",
        "\n",
        "            # (7) Update the optimizer (hint: use the argument optim and its method step)\n",
        "            ########## Your Code #########\n",
        "            optim.step()\n",
        "            ##############################\n",
        "\n",
        "            train_loss += loss.detach().item()\n",
        "\n",
        "        # (8) Update the scheduler\n",
        "        ########## Your Code #########\n",
        "        scheduler.step()\n",
        "        ##############################\n",
        "        train_loss /= len(train_loader.dataset)\n",
        "\n",
        "        print(f'Epoch: {epoch+1}, Training Loss: {train_loss}')"
      ],
      "metadata": {
        "id": "DxN9wt5OdWcL"
      },
      "execution_count": null,
      "outputs": []
    },
    {
      "cell_type": "code",
      "source": [
        "device = torch.device(\"cuda\" if torch.cuda.is_available() else \"cpu\")\n",
        "print(f\"device is {device}\\n\")\n",
        "\n",
        "num_epochs = 3\n",
        "\n",
        "import torch.optim as optim\n",
        "\n",
        "optimizer = optim.SGD(model.parameters(), lr=1e-2, momentum=0.9)\n",
        "scheduler = optim.lr_scheduler.ExponentialLR(optimizer, gamma=0.9)\n",
        "\n",
        "model.to(device)\n",
        "\n",
        "train(model, scheduler, optimizer, nn.CrossEntropyLoss(), train_loader, num_epochs, device)"
      ],
      "metadata": {
        "id": "gwElxQdSdffj"
      },
      "execution_count": null,
      "outputs": []
    },
    {
      "cell_type": "code",
      "source": [
        "def test(model, loss_fn, test_loader, device):\n",
        "    # Set the mode\n",
        "    ########## Your Code ##########\n",
        "    model.eval()\n",
        "    ##############################\n",
        "    correct = 0\n",
        "\n",
        "    with torch.no_grad():\n",
        "        for batch in tqdm(test_loader):\n",
        "            input, target = batch\n",
        "            # Change the device of input & target\n",
        "            ########## Your Code ##########\n",
        "            input = input.to(device)\n",
        "            target = target.to(device)\n",
        "            ###############################\n",
        "\n",
        "            # Get output using the model\n",
        "            ########## Your Code ##########\n",
        "            output = model(input)\n",
        "            ###############################\n",
        "\n",
        "            # Get accuracy using the output and target\n",
        "            # Hint: output shape is [batch_size x 10]\n",
        "            ########## Your Code ##########\n",
        "            pred = output.argmax(dim=1)\n",
        "            ###############################\n",
        "\n",
        "            correct += pred.eq(target.data.view_as(pred)).sum()\n",
        "\n",
        "    print(f'\\nAccuracy: {round(float(100. * correct / len(test_loader.dataset)), 2)}%')"
      ],
      "metadata": {
        "id": "m2JnCjwIdnKj"
      },
      "execution_count": null,
      "outputs": []
    },
    {
      "cell_type": "code",
      "source": [
        "test(model, nn.CrossEntropyLoss(), test_loader, device)"
      ],
      "metadata": {
        "id": "7yTTnG37diyL"
      },
      "execution_count": null,
      "outputs": []
    }
  ]
}