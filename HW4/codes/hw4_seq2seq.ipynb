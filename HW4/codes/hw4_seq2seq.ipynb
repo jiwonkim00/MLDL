{
  "cells": [
    {
      "attachments": {},
      "cell_type": "markdown",
      "metadata": {
        "id": "EDxtMC2g66gQ"
      },
      "source": [
        "# Setup"
      ]
    },
    {
      "cell_type": "code",
      "execution_count": 1,
      "metadata": {
        "colab": {
          "base_uri": "https://localhost:8080/"
        },
        "id": "vj2CXov7JJqq",
        "outputId": "0a9641f3-9490-4b27-9e4f-e9c9ede9dbea"
      },
      "outputs": [
        {
          "name": "stdout",
          "output_type": "stream",
          "text": [
            "Mounted at /content/drive/\n"
          ]
        }
      ],
      "source": [
        "from google.colab import drive\n",
        "drive.mount('/content/drive/')"
      ]
    },
    {
      "cell_type": "code",
      "execution_count": 2,
      "metadata": {
        "colab": {
          "base_uri": "https://localhost:8080/"
        },
        "id": "DcKp4bZiJwut",
        "outputId": "b2d97bd7-92b1-4a97-bfd6-39531cdf1f60"
      },
      "outputs": [
        {
          "name": "stdout",
          "output_type": "stream",
          "text": [
            "/content/drive/My Drive/Colab Notebooks/MLDL1_HW4\n"
          ]
        }
      ],
      "source": [
        "\"\"\"\n",
        "Change directory to where this file is located\n",
        "\"\"\"\n",
        "%cd '/content/drive/My Drive/Colab Notebooks/MLDL1_HW4'"
      ]
    },
    {
      "cell_type": "code",
      "execution_count": 3,
      "metadata": {
        "id": "UHKo6dP6eEO6"
      },
      "outputs": [],
      "source": [
        "import math\n",
        "import random\n",
        "from pathlib import Path\n",
        "import sys\n",
        "\n",
        "from data.data import prepareData\n",
        "\n",
        "import torch\n",
        "import torch.nn as nn\n",
        "import torch.nn.functional as F\n",
        "from torch.nn import TransformerEncoder, TransformerEncoderLayer, TransformerDecoder, TransformerDecoderLayer\n",
        "from torch.utils.data import Dataset, DataLoader, random_split\n",
        "\n",
        "import pandas as pd\n",
        "import numpy as np\n",
        "import matplotlib.pyplot as plt"
      ]
    },
    {
      "cell_type": "code",
      "execution_count": 4,
      "metadata": {
        "colab": {
          "base_uri": "https://localhost:8080/",
          "height": 35
        },
        "id": "5U2jKstSrVfj",
        "outputId": "7ef3620e-dc1a-41e5-b849-2f10ca280c54"
      },
      "outputs": [
        {
          "data": {
            "application/vnd.google.colaboratory.intrinsic+json": {
              "type": "string"
            },
            "text/plain": [
              "'\\nimport modules you need\\n'"
            ]
          },
          "execution_count": 4,
          "metadata": {},
          "output_type": "execute_result"
        }
      ],
      "source": [
        "\"\"\"\n",
        "import modules you need\n",
        "\"\"\"\n"
      ]
    },
    {
      "attachments": {},
      "cell_type": "markdown",
      "metadata": {
        "id": "Kz2VM-9MIyKe"
      },
      "source": [
        "## Util"
      ]
    },
    {
      "attachments": {},
      "cell_type": "markdown",
      "metadata": {
        "id": "8qCY42PE0kRj"
      },
      "source": [
        "**Do NOT Modify** code blocks in this section"
      ]
    },
    {
      "cell_type": "code",
      "execution_count": 5,
      "metadata": {
        "id": "OOnSsL1EeG85"
      },
      "outputs": [],
      "source": [
        "SEED = 1234\n",
        "DEVICE = torch.device('cuda') if torch.cuda.is_available() else torch.device('cpu')\n",
        "\n",
        "np.random.seed(SEED)\n",
        "torch.manual_seed(SEED)\n",
        "torch.cuda.manual_seed(SEED)\n",
        "random.seed(SEED)\n",
        "torch.backends.cudnn.deterministic = True"
      ]
    },
    {
      "cell_type": "code",
      "execution_count": 6,
      "metadata": {
        "id": "UHo7XkIGIz2z"
      },
      "outputs": [],
      "source": [
        "def train(model, iterator, optimizer, loss_fn, clip):\n",
        "    model.train()\n",
        "    epoch_loss = 0\n",
        "\n",
        "    for i, batch in enumerate(iterator):\n",
        "        src = batch[0].to(DEVICE)\n",
        "        trg = batch[1].to(DEVICE)\n",
        "        optimizer.zero_grad()\n",
        "        output = model(src, trg)\n",
        "        loss = loss_fn(output, trg)\n",
        "        loss.backward()\n",
        "        torch.nn.utils.clip_grad_norm_(model.parameters(), clip)\n",
        "        optimizer.step()\n",
        "        epoch_loss += loss.item()\n",
        "\n",
        "    return epoch_loss / len(iterator)"
      ]
    },
    {
      "cell_type": "code",
      "execution_count": 7,
      "metadata": {
        "id": "l2-jeXr-I1yP"
      },
      "outputs": [],
      "source": [
        "def evaluate(model, iterator, loss_fn):\n",
        "    model.eval()\n",
        "    epoch_loss = 0\n",
        "\n",
        "    with torch.no_grad():\n",
        "        for i, batch in enumerate(iterator):\n",
        "            src = batch[0].to(DEVICE)\n",
        "            trg = batch[1].to(DEVICE)\n",
        "            output = model(src, trg)\n",
        "            loss = loss_fn(output, trg)\n",
        "            epoch_loss += loss.item()\n",
        "\n",
        "    return epoch_loss / len(iterator)"
      ]
    },
    {
      "cell_type": "code",
      "execution_count": 8,
      "metadata": {
        "id": "gnb-nEET7aEe"
      },
      "outputs": [],
      "source": [
        "def plot_history(history):\n",
        "    plt.figure(figsize=(2 * 13, 4))\n",
        "    plt.subplot(1, 5, 1)\n",
        "    plt.title(\"Training and Validation Loss\")\n",
        "    plt.plot(history['train_PPL'], label=\"train_PPL\")\n",
        "    plt.plot(history['val_PPL'], label=\"val_PPL\")\n",
        "    plt.xlabel(\"iterations\")\n",
        "    plt.ylabel(\"PPL\")\n",
        "    plt.legend()\n",
        "    plt.subplot(1, 5, 2)\n",
        "    plt.title(\"Learning Rate\")\n",
        "    plt.plot(history['lr'], label=\"learning rate\")\n",
        "    plt.xlabel(\"iterations\")\n",
        "    plt.ylabel(\"LR\")\n",
        "    plt.show()"
      ]
    },
    {
      "attachments": {},
      "cell_type": "markdown",
      "metadata": {
        "id": "5PgCsIyawXoN"
      },
      "source": [
        "## Dataset & Dataloader"
      ]
    },
    {
      "attachments": {},
      "cell_type": "markdown",
      "metadata": {
        "id": "40ZOR80S0wet"
      },
      "source": [
        "**Do NOT Modify** code blocks in this section"
      ]
    },
    {
      "cell_type": "code",
      "execution_count": 9,
      "metadata": {
        "id": "jwwJGiyETHsL"
      },
      "outputs": [],
      "source": [
        "MAX_LENGTH = 10\n",
        "BATCH_SIZE = 64\n",
        "\n",
        "TRAIN_RATIO = 0.7 # train dataset ratio, should be a float in (0, 0.8]\n",
        "VALID_RATIO = 0.8 - TRAIN_RATIO\n",
        "\n",
        "SOS_token = 0\n",
        "EOS_token = 1"
      ]
    },
    {
      "cell_type": "code",
      "execution_count": 10,
      "metadata": {
        "colab": {
          "base_uri": "https://localhost:8080/"
        },
        "id": "fePBsU2GKoaI",
        "outputId": "e49d3d74-b41d-4fac-a9e4-7863cfc08707"
      },
      "outputs": [
        {
          "name": "stdout",
          "output_type": "stream",
          "text": [
            "Reading lines...\n",
            "Read 135842 sentence pairs\n",
            "Trimmed to 10599 sentence pairs\n",
            "Counting words...\n",
            "Counted words:\n",
            "fra 4345\n",
            "eng 2803\n",
            "\n",
            "\n",
            "This is data example\n",
            "['tu me fais de l ombre .', 'you re blocking my light .']\n",
            "\n",
            "\n",
            "This is index of PAD token for each language\n",
            "fra 2803\n",
            "eng 4345\n",
            "\n",
            "\n",
            "This is dataset_size: 10599\n",
            "train_size: 7419\n",
            "valid_data: 1059\n",
            "test_data: 2121\n"
          ]
        }
      ],
      "source": [
        "class TranslateDataset(Dataset):\n",
        "    def __init__(self, max_length=10, fra2eng=True):\n",
        "        self.input_lang, self.output_lang, self.pairs = prepareData('eng', 'fra', max_length=max_length, reverse=fra2eng)\n",
        "        self.max_length = max_length\n",
        "        self.input_lang.addWord('PAD')\n",
        "        self.output_lang.addWord('PAD')\n",
        "        self.input_lang_pad = self.input_lang.word2index['PAD']\n",
        "        self.output_lang_pad = self.output_lang.word2index['PAD']\n",
        "\n",
        "        print(\"\\n\")\n",
        "        print(\"This is data example\")\n",
        "        print(random.choice(self.pairs))\n",
        "\n",
        "        print(\"\\n\")\n",
        "        print(\"This is index of PAD token for each language\")\n",
        "        print(f\"fra {self.output_lang.word2index['PAD']}\")\n",
        "        print(f\"eng {self.input_lang.word2index['PAD']}\")\n",
        "\n",
        "    def __len__(self):\n",
        "        return len(self.pairs)\n",
        "\n",
        "    def __getitem__(self, idx):\n",
        "        pair = self.pairs[idx]\n",
        "        x, y = self._tensorsFromPair(pair)\n",
        "        return x, y\n",
        "\n",
        "    def _tensorFromSentence(self, lang, sentence):\n",
        "        indexes = [lang.word2index[word] for word in sentence.split(' ')]\n",
        "        indexes.append(EOS_token)\n",
        "        return torch.tensor(indexes, dtype=torch.long).view(-1, 1)\n",
        "\n",
        "    def _tensorsFromPair(self, pair):\n",
        "        input_tensor = self._tensorFromSentence(self.input_lang, pair[0])\n",
        "        target_tensor = self._tensorFromSentence(self.output_lang, pair[1])\n",
        "        return (input_tensor, target_tensor)\n",
        "\n",
        "    def collate_fn(self, data):\n",
        "        x_batch = []; y_batch = []\n",
        "\n",
        "        for x, y in data:\n",
        "            if x.shape[0] < self.max_length-1:\n",
        "                x = torch.cat([x, self.input_lang_pad*torch.ones((self.max_length-1 - x.shape[0], 1), dtype=x.dtype)])\n",
        "            elif x.shape[0] > self.max_length-1:\n",
        "                x = x[:self.max_length-1]\n",
        "            if y.shape[0] < self.max_length-1:\n",
        "                y = torch.cat([y, self.output_lang_pad*torch.ones((self.max_length-1 - y.shape[0], 1), dtype=y.dtype)])\n",
        "            elif y.shape[0] > self.max_length-1:\n",
        "                y = y[:self.max_length-1]\n",
        "\n",
        "            x_batch.append(torch.cat([torch.tensor([SOS_token]), x.squeeze(1)]))\n",
        "            y_batch.append(torch.cat([torch.tensor([SOS_token]), y.squeeze(1)]))\n",
        "\n",
        "        return torch.stack(x_batch), torch.stack(y_batch)\n",
        "\n",
        "dataset = TranslateDataset(max_length=MAX_LENGTH)\n",
        "\n",
        "train_size = int(len(dataset)*TRAIN_RATIO)\n",
        "valid_size = int(len(dataset)*VALID_RATIO)\n",
        "train_data, valid_data, test_data = random_split(dataset, [train_size, valid_size, len(dataset)-(train_size+valid_size)],)\n",
        "print(\"\\n\")\n",
        "print(f\"This is dataset_size: {len(dataset)}\")\n",
        "print(f\"train_size: {train_size}\")\n",
        "print(f\"valid_data: {valid_size}\")\n",
        "print(f\"test_data: {len(test_data)}\")\n",
        "\n",
        "train_dataloader = DataLoader(train_data, batch_size=BATCH_SIZE, collate_fn=dataset.collate_fn, shuffle=True)\n",
        "valid_dataloader = DataLoader(valid_data, batch_size=BATCH_SIZE, collate_fn=dataset.collate_fn, shuffle=True)\n",
        "test_dataloader = DataLoader(test_data, batch_size=BATCH_SIZE, collate_fn=dataset.collate_fn, shuffle=True)"
      ]
    },
    {
      "attachments": {},
      "cell_type": "markdown",
      "metadata": {
        "id": "A5xyf2mHuhmX"
      },
      "source": [
        "## Implement LSTM Seq2Seq Model"
      ]
    },
    {
      "cell_type": "code",
      "execution_count": 18,
      "metadata": {
        "id": "1MM6lL95JcDa"
      },
      "outputs": [],
      "source": [
        "class LSTMEncoder(nn.Module):\n",
        "\n",
        "    def __init__(self, in_dim, emb_dim, hid_dim):\n",
        "        super(LSTMEncoder, self).__init__()\n",
        "\n",
        "        self.embedding = nn.Embedding(in_dim, emb_dim)\n",
        "        self.lstm = nn.LSTM(input_size=emb_dim, hidden_size=hid_dim, num_layers=1, batch_first=True)\n",
        "\n",
        "    def forward(self, input, hidden, cell):\n",
        "        '''\n",
        "        Q2 - (a)\n",
        "        Implement forward method of LSTM Encoder Module\n",
        "\n",
        "        INPUT\n",
        "        - input: input sentence, (B, max_len)\n",
        "        - hidden: initialized hidden state, (1, B, hid_dim)\n",
        "        - cell: initialized cell state, (1, B, hid_dim)\n",
        "\n",
        "        OUTPUT\n",
        "        What to be returned depends on your implementation of LSTMSeq2Seq. (Q2 - (b))\n",
        "        Feel free to return outputs you need. (e.g. hidden states of encoder, etc.)\n",
        "        '''\n",
        "\n",
        "        embedded = self.embedding(input)  # Shape: (B, max_len, emb_dim)\n",
        "\n",
        "        # Passing through the LSTM layer\n",
        "        output, (hidden, cell) = self.lstm(embedded, (hidden, cell))  # output: (B, max_len, hid_dim), hidden, cell: (1, B, hid_dim)\n",
        "\n",
        "        # Return the outputs required by the LSTMSeq2Seq model\n",
        "        return output, hidden, cell"
      ]
    },
    {
      "cell_type": "code",
      "execution_count": 26,
      "metadata": {
        "id": "VPQnZdz5KKnN"
      },
      "outputs": [],
      "source": [
        "class AttnLSTMDecoder(nn.Module):\n",
        "\n",
        "    def __init__(self, emb_dim, hid_dim, out_dim, dropout, enc_hiddens=None):\n",
        "        super(AttnLSTMDecoder, self).__init__()\n",
        "        self.enc_hiddens = enc_hiddens # encoder output\n",
        "        self.dropout = dropout\n",
        "        self.t = 0\n",
        "\n",
        "        self.embedding = nn.Embedding(out_dim, emb_dim)\n",
        "        self.lstm = nn.LSTM(input_size=emb_dim, hidden_size=hid_dim, batch_first=True)\n",
        "        self.fc = nn.Linear(hid_dim + hid_dim, hid_dim)\n",
        "        self.tanh = nn.Tanh()\n",
        "        self.classifier = nn.Linear(hid_dim, out_dim)\n",
        "\n",
        "    def forward(self, input, hidden, cell):\n",
        "\n",
        "        '''\n",
        "        Q2 - (a)\n",
        "        Implement forward method of LSTM Decoder Module with dot-product attention\n",
        "        Before implementing LSTM layer, make sure to feed the concatenated input into Linear and tanh activation layer.\n",
        "        This will allow the concatenated input to be resized from (B, hid_dim + hid_dim) into (B, hid_dim)\n",
        "\n",
        "        INPUT\n",
        "        - input: a token of input sentence (B, 1)\n",
        "        - hidden: previous hidden state (B, hid_dim)\n",
        "        - cell: previous cell state (1, B, hid_dim)\n",
        "\n",
        "        OUTPUT\n",
        "        What to be returned depends on your implementation of LSTMSeq2Seq. (Q2 - (b))\n",
        "        Feel free to return outputs you need.\n",
        "        Some examples below\n",
        "        - predicted token embedding (N, emb_dim)\n",
        "        - current hidden state\n",
        "        - current cell state\n",
        "        '''\n",
        "\n",
        "        embedded = self.embedding(input)  # Shape: (B, 1, emb_dim)\n",
        "\n",
        "        query = hidden.squeeze(0) # shape: (B, hid_dim, 1)\n",
        "\n",
        "        # Calculate attention weights\n",
        "        keys = self.enc_hiddens # encoder output, shape: (B, seq_len, hid_dim)\n",
        "        values = self.enc_hiddens\n",
        "\n",
        "        attn_weights = torch.bmm(keys, query.unsqueeze(2))\n",
        "        attn_weights = attn_weights.squeeze(2)  # Shape: (B, seq_len)\n",
        "        attn_weights = F.softmax(attn_weights, dim=1)\n",
        "\n",
        "        # Compute context vector\n",
        "        attn_values = torch.bmm(attn_weights.unsqueeze(1), values)  # Shape: (B, 1, hid_dim)\n",
        "        attn_values = attn_values.squeeze(1) # Shape: (B, hid_dim)\n",
        "\n",
        "        # Concatenate and process\n",
        "        lstm_input = torch.cat((embedded.squeeze(1), attn_values), dim=1)  # Shape: (B, 1, emb_dim + hid_dim)\n",
        "        #processed_input = self.tanh(self.fc(concatenated))  # Shape: (B, hid_dim)\n",
        "\n",
        "        lstm_input = self.tanh(self.fc(lstm_input)) # Shape: (B, hid_dim)\n",
        "        lstm_input = lstm_input.unsqueeze(1) # Shape: (B, 1, hid_dim)\n",
        "\n",
        "        output, (hidden, cell) = self.lstm(lstm_input, (hidden, cell))  # hidden and cell are (1, B, hid_dim)\n",
        "\n",
        "        # Pass the output through the classifier to generate the final output\n",
        "        prediction = self.classifier(output.squeeze(1))  # (B, out_dim)\n",
        "\n",
        "        return prediction, hidden, cell\n",
        "\n",
        "        # # LSTM layer\n",
        "        # output, (hidden, cell) = self.lstm(concatenated, (hidden.unsqueeze(0), cell))\n",
        "        # output = output.transpose(0,1)\n",
        "\n",
        "        # # Classifier\n",
        "        # prediction = self.classifier(output[0])  # Shape: (B, out_dim)\n",
        "        # log_softmax = nn.LogSoftmax(dim=1)\n",
        "        # prediction = log_softmax(prediction)\n",
        "\n",
        "        # self.t += 1\n",
        "\n",
        "        # return prediction, hidden.squeeze(0), cell"
      ]
    },
    {
      "cell_type": "code",
      "execution_count": 32,
      "metadata": {
        "id": "zJsJ3p2NLD6c"
      },
      "outputs": [],
      "source": [
        "class LSTMSeq2Seq(nn.Module):\n",
        "    def __init__(self, in_dim, out_dim, emb_dim, hid_dim, device, dropout):\n",
        "        super(LSTMSeq2Seq, self).__init__()\n",
        "\n",
        "        self.in_dim = in_dim\n",
        "        self.out_dim = out_dim\n",
        "        self.emb_dim = emb_dim\n",
        "        self.hid_dim = hid_dim\n",
        "        self.device = device\n",
        "        self.dropout = nn.Dropout(dropout)\n",
        "\n",
        "        self.encoder = LSTMEncoder(in_dim, emb_dim, hid_dim)\n",
        "        self.decoder = AttnLSTMDecoder(emb_dim, hid_dim, out_dim, dropout)\n",
        "\n",
        "    def forward(self, src, trg):\n",
        "        '''\n",
        "        Q2 - (b)\n",
        "        Implement forward method of LSTM Seq2Seq Module\n",
        "        (Decoder module should attend encoder's outputs using dot product.)\n",
        "\n",
        "        INPUT\n",
        "        - src: source language batched data (B, max_len)\n",
        "        - trg: target language batched data (B, max_len)\n",
        "\n",
        "        OUTPUT\n",
        "        - output of one-hot prediction (B, out_dim, max_len)\n",
        "        '''\n",
        "\n",
        "        batch_size, max_len = src.shape\n",
        "\n",
        "        # Hidden and cell states\n",
        "        hidden = torch.zeros(1, batch_size, self.hid_dim).to(self.device)\n",
        "        cell = torch.zeros(1, batch_size, self.hid_dim).to(self.device)\n",
        "\n",
        "        # Encoder\n",
        "        encoder_outputs, hidden, cell = self.encoder(src, hidden, cell)\n",
        "\n",
        "        # Decoder: pass the encoder's outputs to the decoder\n",
        "        self.decoder.enc_hiddens = encoder_outputs\n",
        "\n",
        "        # Prepare the output tensor\n",
        "        outputs = torch.zeros(batch_size, max_len, self.out_dim).to(self.device)\n",
        "\n",
        "        input = trg[:, 0] # input to dec\n",
        "\n",
        "        for t in range(0, max_len):\n",
        "            output, hidden, cell = self.decoder(input, hidden, cell)\n",
        "            outputs[:, t, :] = output\n",
        "\n",
        "            max = output.argmax(1)\n",
        "            input = max\n",
        "\n",
        "        return outputs.permute(0, 2, 1) # Shape: (B, out_dim, max_len)"
      ]
    },
    {
      "attachments": {},
      "cell_type": "markdown",
      "metadata": {
        "id": "cu3WP3mYw3NV"
      },
      "source": [
        "## Training"
      ]
    },
    {
      "cell_type": "code",
      "execution_count": 33,
      "metadata": {
        "colab": {
          "base_uri": "https://localhost:8080/",
          "height": 53
        },
        "id": "B4YKhRe9d9qC",
        "outputId": "cc3c9244-38dd-4846-e1b3-436f5db96ab3"
      },
      "outputs": [
        {
          "data": {
            "application/vnd.google.colaboratory.intrinsic+json": {
              "type": "string"
            },
            "text/plain": [
              "'\\nQ2 - (c)\\nTrain your Seq2Seq model and plot perplexities and learning rates.\\nUpon successful training, the test perplexity should be less than 7.\\nBriefly report your hyperparameters and results on test dataset.\\nMake sure your results are printed in your submitted file.\\n'"
            ]
          },
          "execution_count": 33,
          "metadata": {},
          "output_type": "execute_result"
        }
      ],
      "source": [
        "'''\n",
        "Q2 - (c)\n",
        "Train your Seq2Seq model and plot perplexities and learning rates.\n",
        "Upon successful training, the test perplexity should be less than 7.\n",
        "Briefly report your hyperparameters and results on test dataset.\n",
        "Make sure your results are printed in your submitted file.\n",
        "'''"
      ]
    },
    {
      "cell_type": "code",
      "execution_count": 34,
      "metadata": {
        "id": "1QQgN03XecUV"
      },
      "outputs": [],
      "source": [
        "# experiment various methods for better performance\n",
        "# you can modify the codes in this block\n",
        "in_dim = dataset.input_lang.n_words\n",
        "out_dim = dataset.output_lang.n_words\n",
        "hid_dim = 512\n",
        "emb_dim = 512\n",
        "dropout = 0.1\n",
        "learning_rate = 0.001\n",
        "N_EPOCHS = 20\n",
        "valid_every= 3\n",
        "best_valid_loss = float('inf')\n",
        "\n",
        "device = torch.device('cuda' if torch.cuda.is_available() else 'cpu')\n",
        "model = LSTMSeq2Seq(in_dim, out_dim, emb_dim, hid_dim, device, dropout).to(device)\n",
        "\n",
        "optimizer = torch.optim.AdamW(model.parameters(), lr=learning_rate)\n",
        "loss_fn = nn.CrossEntropyLoss(ignore_index = dataset.output_lang_pad)\n",
        "#scheduler = torch.optim.lr_scheduler.ReduceLROnPlateau(optimizer, 'min', factor=0.1, patience=5, verbose=True)\n",
        "scheduler = torch.optim.lr_scheduler.ExponentialLR(optimizer, gamma=0.85)\n",
        "#scheduler = torch.optim.lr_scheduler.StepLR(optimizer, gamma=0.1, step_size=10)\n",
        "\n",
        "\n",
        "# lr = 0.005, (adam) weight_decay = 0.85, gamma = 0.85, epochs = 60, valid_every = 5\n"
      ]
    },
    {
      "cell_type": "code",
      "execution_count": 35,
      "metadata": {
        "colab": {
          "base_uri": "https://localhost:8080/",
          "height": 1000
        },
        "id": "JbSR6BZKf-6L",
        "outputId": "8846ac22-cfb3-4340-81c5-3f8eb0e8fe6f"
      },
      "outputs": [
        {
          "name": "stdout",
          "output_type": "stream",
          "text": [
            "Epoch: 01\n",
            "\tTrain Loss: 3.246 | Train PPL:  25.687\n",
            "==========================\n",
            "\t Val. Loss: 2.563 |  Val. PPL:  12.969\n",
            "Epoch: 02\n",
            "\tTrain Loss: 2.359 | Train PPL:  10.580\n",
            "Epoch: 03\n",
            "\tTrain Loss: 2.075 | Train PPL:   7.968\n",
            "Epoch: 04\n",
            "\tTrain Loss: 1.847 | Train PPL:   6.341\n",
            "==========================\n",
            "\t Val. Loss: 2.035 |  Val. PPL:   7.649\n",
            "Epoch: 05\n",
            "\tTrain Loss: 1.632 | Train PPL:   5.113\n",
            "Epoch: 06\n",
            "\tTrain Loss: 1.435 | Train PPL:   4.198\n",
            "Epoch: 07\n",
            "\tTrain Loss: 1.245 | Train PPL:   3.472\n",
            "==========================\n",
            "\t Val. Loss: 1.793 |  Val. PPL:   6.006\n",
            "Epoch: 08\n",
            "\tTrain Loss: 1.075 | Train PPL:   2.929\n",
            "Epoch: 09\n",
            "\tTrain Loss: 0.922 | Train PPL:   2.514\n",
            "Epoch: 10\n",
            "\tTrain Loss: 0.776 | Train PPL:   2.172\n",
            "==========================\n",
            "\t Val. Loss: 1.652 |  Val. PPL:   5.217\n",
            "Epoch: 11\n",
            "\tTrain Loss: 0.648 | Train PPL:   1.912\n",
            "Epoch: 12\n",
            "\tTrain Loss: 0.535 | Train PPL:   1.707\n",
            "Epoch: 13\n",
            "\tTrain Loss: 0.434 | Train PPL:   1.544\n",
            "==========================\n",
            "\t Val. Loss: 1.620 |  Val. PPL:   5.053\n",
            "Epoch: 14\n",
            "\tTrain Loss: 0.347 | Train PPL:   1.415\n",
            "Epoch: 15\n",
            "\tTrain Loss: 0.283 | Train PPL:   1.327\n",
            "Epoch: 16\n",
            "\tTrain Loss: 0.238 | Train PPL:   1.269\n",
            "==========================\n",
            "\t Val. Loss: 1.656 |  Val. PPL:   5.237\n",
            "Epoch: 17\n",
            "\tTrain Loss: 0.187 | Train PPL:   1.206\n",
            "Epoch: 18\n",
            "\tTrain Loss: 0.147 | Train PPL:   1.159\n",
            "Epoch: 19\n",
            "\tTrain Loss: 0.120 | Train PPL:   1.127\n",
            "==========================\n",
            "\t Val. Loss: 1.683 |  Val. PPL:   5.384\n",
            "Epoch: 20\n",
            "\tTrain Loss: 0.112 | Train PPL:   1.118\n"
          ]
        },
        {
          "data": {
            "image/png": "[encoded data removed]",
            "text/plain": [
              "<Figure size 2600x400 with 2 Axes>"
            ]
          },
          "metadata": {},
          "output_type": "display_data"
        }
      ],
      "source": [
        "# Train your model\n",
        "\n",
        "history = {'train_PPL':[], 'val_PPL':[], 'lr':[]}\n",
        "\n",
        "for epoch in range(N_EPOCHS):\n",
        "    train_loss = train(model, train_dataloader, optimizer, loss_fn, 1)\n",
        "\n",
        "    print(f'Epoch: {epoch+1:02}')\n",
        "    print(f'\\tTrain Loss: {train_loss:.3f} | Train PPL: {math.exp(train_loss):7.3f}')\n",
        "\n",
        "    if epoch%valid_every==0:\n",
        "        print(\"==========================\")\n",
        "        valid_loss = evaluate(model, valid_dataloader, loss_fn)\n",
        "\n",
        "        if valid_loss < best_valid_loss:\n",
        "            best_valid_loss = valid_loss\n",
        "            model.decoder.t=0\n",
        "            torch.save(model.state_dict(), 'lstm-attn-model.pt')\n",
        "        print(f'\\t Val. Loss: {valid_loss:.3f} |  Val. PPL: {math.exp(valid_loss):7.3f}')\n",
        "\n",
        "        #scheduler.step()\n",
        "\n",
        "        history['train_PPL'].append(math.exp(train_loss))\n",
        "        history['val_PPL'].append(math.exp(valid_loss))\n",
        "        history['lr'].append(optimizer.param_groups[0]['lr'])\n",
        "\n",
        "plot_history(history)"
      ]
    },
    {
      "cell_type": "code",
      "execution_count": 36,
      "metadata": {
        "colab": {
          "base_uri": "https://localhost:8080/"
        },
        "id": "hBXKAKZo2lSS",
        "outputId": "b9bfadd8-f443-434e-fa49-09fcc254daff"
      },
      "outputs": [
        {
          "name": "stdout",
          "output_type": "stream",
          "text": [
            "\t Test. Loss: 1.683 |  Test. PPL:   5.384\n"
          ]
        }
      ],
      "source": [
        "# Test your model\n",
        "torch.save(model.state_dict(), 'lstm-attn-model.pt')\n",
        "loaded_model = LSTMSeq2Seq(in_dim, out_dim, emb_dim, hid_dim, device, dropout).to(device)\n",
        "loaded_model.load_state_dict(torch.load('lstm-attn-model.pt'))\n",
        "\n",
        "test_loss = evaluate(loaded_model, test_dataloader, loss_fn)\n",
        "print(f'\\t Test. Loss: {valid_loss:.3f} |  Test. PPL: {math.exp(valid_loss):7.3f}')"
      ]
    },
    {
      "attachments": {},
      "cell_type": "markdown",
      "metadata": {
        "id": "nfdDVw99VvV-"
      },
      "source": [
        "Briefly report your hyperparameters and results on test datasets.  \n",
        "\n",
        "You Answer : The hyperparameters were set by doing experiments on various combinations. At the first try, the model seemed to be overfitting to the training data, implied by the huge gap of PPL between train PPL and val PPL. Therefore, adjustments of hidden_dim, learning_rate were conducted.  Also, the number of epochs seems to contribute to the result since increasing the number of epochs over 20 seemed to rather increase the validation and eval ppl. Therefore, the optimal number was set at 20."
      ]
    }
  ],
  "metadata": {
    "accelerator": "GPU",
    "colab": {
      "provenance": []
    },
    "gpuClass": "standard",
    "kernelspec": {
      "display_name": "Python 3",
      "name": "python3"
    },
    "language_info": {
      "name": "python"
    }
  },
  "nbformat": 4,
  "nbformat_minor": 0
}
