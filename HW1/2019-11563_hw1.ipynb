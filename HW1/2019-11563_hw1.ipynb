{
 "cells": [
  {
   "cell_type": "code",
   "execution_count": 1,
   "id": "initial_id",
   "metadata": {
    "collapsed": true,
    "ExecuteTime": {
     "end_time": "2023-10-04T05:07:49.419798Z",
     "start_time": "2023-10-04T05:07:41.848380Z"
    }
   },
   "outputs": [],
   "source": [
    "import pandas as pd\n",
    "from sklearn.linear_model import LinearRegression\n",
    "from sklearn.metrics import r2_score\n",
    "import statsmodels.api as sm"
   ]
  },
  {
   "cell_type": "markdown",
   "source": [
    "Problem 1 : (a) ~ (d) Linear Regression using 'Price','Urban','US'"
   ],
   "metadata": {
    "collapsed": false
   },
   "id": "f5f563aa60c5af1c"
  },
  {
   "cell_type": "code",
   "execution_count": 10,
   "outputs": [
    {
     "data": {
      "text/plain": "     Sales  CompPrice  Income  Advertising  Population  Price ShelveLoc  Age  \\\n0     9.50        138      73           11         276    120       Bad   42   \n1    11.22        111      48           16         260     83      Good   65   \n2    10.06        113      35           10         269     80    Medium   59   \n3     7.40        117     100            4         466     97    Medium   55   \n4     4.15        141      64            3         340    128       Bad   38   \n..     ...        ...     ...          ...         ...    ...       ...  ...   \n395  12.57        138     108           17         203    128      Good   33   \n396   6.14        139      23            3          37    120    Medium   55   \n397   7.41        162      26           12         368    159    Medium   40   \n398   5.94        100      79            7         284     95       Bad   50   \n399   9.71        134      37            0          27    120      Good   49   \n\n     Education Urban   US  \n0           17   Yes  Yes  \n1           10   Yes  Yes  \n2           12   Yes  Yes  \n3           14   Yes  Yes  \n4           13   Yes   No  \n..         ...   ...  ...  \n395         14   Yes  Yes  \n396         11    No  Yes  \n397         18   Yes  Yes  \n398         12   Yes  Yes  \n399         16   Yes  Yes  \n\n[400 rows x 11 columns]",
      "text/html": "<div>\n<style scoped>\n    .dataframe tbody tr th:only-of-type {\n        vertical-align: middle;\n    }\n\n    .dataframe tbody tr th {\n        vertical-align: top;\n    }\n\n    .dataframe thead th {\n        text-align: right;\n    }\n</style>\n<table border=\"1\" class=\"dataframe\">\n  <thead>\n    <tr style=\"text-align: right;\">\n      <th></th>\n      <th>Sales</th>\n      <th>CompPrice</th>\n      <th>Income</th>\n      <th>Advertising</th>\n      <th>Population</th>\n      <th>Price</th>\n      <th>ShelveLoc</th>\n      <th>Age</th>\n      <th>Education</th>\n      <th>Urban</th>\n      <th>US</th>\n    </tr>\n  </thead>\n  <tbody>\n    <tr>\n      <th>0</th>\n      <td>9.50</td>\n      <td>138</td>\n      <td>73</td>\n      <td>11</td>\n      <td>276</td>\n      <td>120</td>\n      <td>Bad</td>\n      <td>42</td>\n      <td>17</td>\n      <td>Yes</td>\n      <td>Yes</td>\n    </tr>\n    <tr>\n      <th>1</th>\n      <td>11.22</td>\n      <td>111</td>\n      <td>48</td>\n      <td>16</td>\n      <td>260</td>\n      <td>83</td>\n      <td>Good</td>\n      <td>65</td>\n      <td>10</td>\n      <td>Yes</td>\n      <td>Yes</td>\n    </tr>\n    <tr>\n      <th>2</th>\n      <td>10.06</td>\n      <td>113</td>\n      <td>35</td>\n      <td>10</td>\n      <td>269</td>\n      <td>80</td>\n      <td>Medium</td>\n      <td>59</td>\n      <td>12</td>\n      <td>Yes</td>\n      <td>Yes</td>\n    </tr>\n    <tr>\n      <th>3</th>\n      <td>7.40</td>\n      <td>117</td>\n      <td>100</td>\n      <td>4</td>\n      <td>466</td>\n      <td>97</td>\n      <td>Medium</td>\n      <td>55</td>\n      <td>14</td>\n      <td>Yes</td>\n      <td>Yes</td>\n    </tr>\n    <tr>\n      <th>4</th>\n      <td>4.15</td>\n      <td>141</td>\n      <td>64</td>\n      <td>3</td>\n      <td>340</td>\n      <td>128</td>\n      <td>Bad</td>\n      <td>38</td>\n      <td>13</td>\n      <td>Yes</td>\n      <td>No</td>\n    </tr>\n    <tr>\n      <th>...</th>\n      <td>...</td>\n      <td>...</td>\n      <td>...</td>\n      <td>...</td>\n      <td>...</td>\n      <td>...</td>\n      <td>...</td>\n      <td>...</td>\n      <td>...</td>\n      <td>...</td>\n      <td>...</td>\n    </tr>\n    <tr>\n      <th>395</th>\n      <td>12.57</td>\n      <td>138</td>\n      <td>108</td>\n      <td>17</td>\n      <td>203</td>\n      <td>128</td>\n      <td>Good</td>\n      <td>33</td>\n      <td>14</td>\n      <td>Yes</td>\n      <td>Yes</td>\n    </tr>\n    <tr>\n      <th>396</th>\n      <td>6.14</td>\n      <td>139</td>\n      <td>23</td>\n      <td>3</td>\n      <td>37</td>\n      <td>120</td>\n      <td>Medium</td>\n      <td>55</td>\n      <td>11</td>\n      <td>No</td>\n      <td>Yes</td>\n    </tr>\n    <tr>\n      <th>397</th>\n      <td>7.41</td>\n      <td>162</td>\n      <td>26</td>\n      <td>12</td>\n      <td>368</td>\n      <td>159</td>\n      <td>Medium</td>\n      <td>40</td>\n      <td>18</td>\n      <td>Yes</td>\n      <td>Yes</td>\n    </tr>\n    <tr>\n      <th>398</th>\n      <td>5.94</td>\n      <td>100</td>\n      <td>79</td>\n      <td>7</td>\n      <td>284</td>\n      <td>95</td>\n      <td>Bad</td>\n      <td>50</td>\n      <td>12</td>\n      <td>Yes</td>\n      <td>Yes</td>\n    </tr>\n    <tr>\n      <th>399</th>\n      <td>9.71</td>\n      <td>134</td>\n      <td>37</td>\n      <td>0</td>\n      <td>27</td>\n      <td>120</td>\n      <td>Good</td>\n      <td>49</td>\n      <td>16</td>\n      <td>Yes</td>\n      <td>Yes</td>\n    </tr>\n  </tbody>\n</table>\n<p>400 rows × 11 columns</p>\n</div>"
     },
     "execution_count": 10,
     "metadata": {},
     "output_type": "execute_result"
    }
   ],
   "source": [
    "data = pd.read_csv(\"Carseats.csv\")\n",
    "data"
   ],
   "metadata": {
    "collapsed": false,
    "ExecuteTime": {
     "start_time": "2023-10-04T05:34:06.576275Z"
    }
   },
   "id": "fb5b14f9761859cd"
  },
  {
   "cell_type": "code",
   "execution_count": 11,
   "outputs": [
    {
     "data": {
      "text/plain": "   Sales  CompPrice  Income  Advertising  Population  Price ShelveLoc  Age  \\\n0   9.50        138      73           11         276    120       Bad   42   \n1  11.22        111      48           16         260     83      Good   65   \n2  10.06        113      35           10         269     80    Medium   59   \n3   7.40        117     100            4         466     97    Medium   55   \n4   4.15        141      64            3         340    128       Bad   38   \n5  10.81        124     113           13         501     72       Bad   78   \n6   6.63        115     105            0          45    108    Medium   71   \n7  11.85        136      81           15         425    120      Good   67   \n8   6.54        132     110            0         108    124    Medium   76   \n9   4.69        132     113            0         131    124    Medium   76   \n\n   Education  Urban_Yes  US_Yes  \n0         17          1       1  \n1         10          1       1  \n2         12          1       1  \n3         14          1       1  \n4         13          1       0  \n5         16          0       1  \n6         15          1       0  \n7         10          1       1  \n8         10          0       0  \n9         17          0       1  ",
      "text/html": "<div>\n<style scoped>\n    .dataframe tbody tr th:only-of-type {\n        vertical-align: middle;\n    }\n\n    .dataframe tbody tr th {\n        vertical-align: top;\n    }\n\n    .dataframe thead th {\n        text-align: right;\n    }\n</style>\n<table border=\"1\" class=\"dataframe\">\n  <thead>\n    <tr style=\"text-align: right;\">\n      <th></th>\n      <th>Sales</th>\n      <th>CompPrice</th>\n      <th>Income</th>\n      <th>Advertising</th>\n      <th>Population</th>\n      <th>Price</th>\n      <th>ShelveLoc</th>\n      <th>Age</th>\n      <th>Education</th>\n      <th>Urban_Yes</th>\n      <th>US_Yes</th>\n    </tr>\n  </thead>\n  <tbody>\n    <tr>\n      <th>0</th>\n      <td>9.50</td>\n      <td>138</td>\n      <td>73</td>\n      <td>11</td>\n      <td>276</td>\n      <td>120</td>\n      <td>Bad</td>\n      <td>42</td>\n      <td>17</td>\n      <td>1</td>\n      <td>1</td>\n    </tr>\n    <tr>\n      <th>1</th>\n      <td>11.22</td>\n      <td>111</td>\n      <td>48</td>\n      <td>16</td>\n      <td>260</td>\n      <td>83</td>\n      <td>Good</td>\n      <td>65</td>\n      <td>10</td>\n      <td>1</td>\n      <td>1</td>\n    </tr>\n    <tr>\n      <th>2</th>\n      <td>10.06</td>\n      <td>113</td>\n      <td>35</td>\n      <td>10</td>\n      <td>269</td>\n      <td>80</td>\n      <td>Medium</td>\n      <td>59</td>\n      <td>12</td>\n      <td>1</td>\n      <td>1</td>\n    </tr>\n    <tr>\n      <th>3</th>\n      <td>7.40</td>\n      <td>117</td>\n      <td>100</td>\n      <td>4</td>\n      <td>466</td>\n      <td>97</td>\n      <td>Medium</td>\n      <td>55</td>\n      <td>14</td>\n      <td>1</td>\n      <td>1</td>\n    </tr>\n    <tr>\n      <th>4</th>\n      <td>4.15</td>\n      <td>141</td>\n      <td>64</td>\n      <td>3</td>\n      <td>340</td>\n      <td>128</td>\n      <td>Bad</td>\n      <td>38</td>\n      <td>13</td>\n      <td>1</td>\n      <td>0</td>\n    </tr>\n    <tr>\n      <th>5</th>\n      <td>10.81</td>\n      <td>124</td>\n      <td>113</td>\n      <td>13</td>\n      <td>501</td>\n      <td>72</td>\n      <td>Bad</td>\n      <td>78</td>\n      <td>16</td>\n      <td>0</td>\n      <td>1</td>\n    </tr>\n    <tr>\n      <th>6</th>\n      <td>6.63</td>\n      <td>115</td>\n      <td>105</td>\n      <td>0</td>\n      <td>45</td>\n      <td>108</td>\n      <td>Medium</td>\n      <td>71</td>\n      <td>15</td>\n      <td>1</td>\n      <td>0</td>\n    </tr>\n    <tr>\n      <th>7</th>\n      <td>11.85</td>\n      <td>136</td>\n      <td>81</td>\n      <td>15</td>\n      <td>425</td>\n      <td>120</td>\n      <td>Good</td>\n      <td>67</td>\n      <td>10</td>\n      <td>1</td>\n      <td>1</td>\n    </tr>\n    <tr>\n      <th>8</th>\n      <td>6.54</td>\n      <td>132</td>\n      <td>110</td>\n      <td>0</td>\n      <td>108</td>\n      <td>124</td>\n      <td>Medium</td>\n      <td>76</td>\n      <td>10</td>\n      <td>0</td>\n      <td>0</td>\n    </tr>\n    <tr>\n      <th>9</th>\n      <td>4.69</td>\n      <td>132</td>\n      <td>113</td>\n      <td>0</td>\n      <td>131</td>\n      <td>124</td>\n      <td>Medium</td>\n      <td>76</td>\n      <td>17</td>\n      <td>0</td>\n      <td>1</td>\n    </tr>\n  </tbody>\n</table>\n</div>"
     },
     "execution_count": 11,
     "metadata": {},
     "output_type": "execute_result"
    }
   ],
   "source": [
    "# data['Urban'] = data['Urban'].map({'Yes': 1, 'No': 0})\n",
    "# data['US'] = data['US'].map({'Yes': 1, 'No': 0})\n",
    "\n",
    "data = pd.get_dummies(data, columns=['Urban', 'US'], drop_first=True)\n",
    "data.head(10)"
   ],
   "metadata": {
    "collapsed": false,
    "ExecuteTime": {
     "end_time": "2023-10-04T05:34:10.512305Z",
     "start_time": "2023-10-04T05:34:10.487819Z"
    }
   },
   "id": "b5fa987260b75a80"
  },
  {
   "cell_type": "code",
   "execution_count": 12,
   "outputs": [
    {
     "data": {
      "text/plain": "   Price  Urban  US\n0    120      1   1\n1     83      1   1\n2     80      1   1\n3     97      1   1\n4    128      1   0",
      "text/html": "<div>\n<style scoped>\n    .dataframe tbody tr th:only-of-type {\n        vertical-align: middle;\n    }\n\n    .dataframe tbody tr th {\n        vertical-align: top;\n    }\n\n    .dataframe thead th {\n        text-align: right;\n    }\n</style>\n<table border=\"1\" class=\"dataframe\">\n  <thead>\n    <tr style=\"text-align: right;\">\n      <th></th>\n      <th>Price</th>\n      <th>Urban</th>\n      <th>US</th>\n    </tr>\n  </thead>\n  <tbody>\n    <tr>\n      <th>0</th>\n      <td>120</td>\n      <td>1</td>\n      <td>1</td>\n    </tr>\n    <tr>\n      <th>1</th>\n      <td>83</td>\n      <td>1</td>\n      <td>1</td>\n    </tr>\n    <tr>\n      <th>2</th>\n      <td>80</td>\n      <td>1</td>\n      <td>1</td>\n    </tr>\n    <tr>\n      <th>3</th>\n      <td>97</td>\n      <td>1</td>\n      <td>1</td>\n    </tr>\n    <tr>\n      <th>4</th>\n      <td>128</td>\n      <td>1</td>\n      <td>0</td>\n    </tr>\n  </tbody>\n</table>\n</div>"
     },
     "execution_count": 12,
     "metadata": {},
     "output_type": "execute_result"
    }
   ],
   "source": [
    "data = data.rename(columns={'Urban_Yes': 'Urban', 'US_Yes': 'US'})\n",
    "X = data[['Price', 'Urban', 'US']]\n",
    "X.head()"
   ],
   "metadata": {
    "collapsed": false,
    "ExecuteTime": {
     "end_time": "2023-10-04T05:38:02.281358Z",
     "start_time": "2023-10-04T05:38:02.252322Z"
    }
   },
   "id": "f32f225ef3cab784"
  },
  {
   "cell_type": "code",
   "execution_count": 13,
   "outputs": [
    {
     "data": {
      "text/plain": "0     9.50\n1    11.22\n2    10.06\n3     7.40\n4     4.15\nName: Sales, dtype: float64"
     },
     "execution_count": 13,
     "metadata": {},
     "output_type": "execute_result"
    }
   ],
   "source": [
    "Y = data['Sales']\n",
    "Y.head()"
   ],
   "metadata": {
    "collapsed": false,
    "ExecuteTime": {
     "end_time": "2023-10-04T05:38:10.496165Z",
     "start_time": "2023-10-04T05:38:10.486335Z"
    }
   },
   "id": "33e0a5a7a8beb28f"
  },
  {
   "cell_type": "code",
   "execution_count": 15,
   "outputs": [
    {
     "name": "stdout",
     "output_type": "stream",
     "text": [
      "                            OLS Regression Results                            \n",
      "==============================================================================\n",
      "Dep. Variable:                  Sales   R-squared:                       0.239\n",
      "Model:                            OLS   Adj. R-squared:                  0.234\n",
      "Method:                 Least Squares   F-statistic:                     41.52\n",
      "Date:                Wed, 04 Oct 2023   Prob (F-statistic):           2.39e-23\n",
      "Time:                        15:21:32   Log-Likelihood:                -927.66\n",
      "No. Observations:                 400   AIC:                             1863.\n",
      "Df Residuals:                     396   BIC:                             1879.\n",
      "Df Model:                           3                                         \n",
      "Covariance Type:            nonrobust                                         \n",
      "==============================================================================\n",
      "                 coef    std err          t      P>|t|      [0.025      0.975]\n",
      "------------------------------------------------------------------------------\n",
      "const         13.0435      0.651     20.036      0.000      11.764      14.323\n",
      "Price         -0.0545      0.005    -10.389      0.000      -0.065      -0.044\n",
      "Urban         -0.0219      0.272     -0.081      0.936      -0.556       0.512\n",
      "US             1.2006      0.259      4.635      0.000       0.691       1.710\n",
      "==============================================================================\n",
      "Omnibus:                        0.676   Durbin-Watson:                   1.912\n",
      "Prob(Omnibus):                  0.713   Jarque-Bera (JB):                0.758\n",
      "Skew:                           0.093   Prob(JB):                        0.684\n",
      "Kurtosis:                       2.897   Cond. No.                         628.\n",
      "==============================================================================\n",
      "\n",
      "Notes:\n",
      "[1] Standard Errors assume that the covariance matrix of the errors is correctly specified.\n"
     ]
    }
   ],
   "source": [
    "X_t = sm.add_constant(X)\n",
    "reg = sm.OLS(Y, X_t).fit() # Linear Regression\n",
    "print(reg.summary())"
   ],
   "metadata": {
    "collapsed": false,
    "ExecuteTime": {
     "end_time": "2023-10-04T06:21:32.770928Z",
     "start_time": "2023-10-04T06:21:32.667299Z"
    }
   },
   "id": "8e648437439f6591"
  },
  {
   "cell_type": "markdown",
   "source": [
    "Problem 1 : (e) Code for linear reg using only 'Price' and 'US'"
   ],
   "metadata": {
    "collapsed": false
   },
   "id": "f7d26e0ec39c010f"
  },
  {
   "cell_type": "code",
   "execution_count": 16,
   "outputs": [
    {
     "name": "stdout",
     "output_type": "stream",
     "text": [
      "                            OLS Regression Results                            \n",
      "==============================================================================\n",
      "Dep. Variable:                  Sales   R-squared:                       0.239\n",
      "Model:                            OLS   Adj. R-squared:                  0.235\n",
      "Method:                 Least Squares   F-statistic:                     62.43\n",
      "Date:                Wed, 04 Oct 2023   Prob (F-statistic):           2.66e-24\n",
      "Time:                        17:45:11   Log-Likelihood:                -927.66\n",
      "No. Observations:                 400   AIC:                             1861.\n",
      "Df Residuals:                     397   BIC:                             1873.\n",
      "Df Model:                           2                                         \n",
      "Covariance Type:            nonrobust                                         \n",
      "==============================================================================\n",
      "                 coef    std err          t      P>|t|      [0.025      0.975]\n",
      "------------------------------------------------------------------------------\n",
      "const         13.0308      0.631     20.652      0.000      11.790      14.271\n",
      "Price         -0.0545      0.005    -10.416      0.000      -0.065      -0.044\n",
      "US             1.1996      0.258      4.641      0.000       0.692       1.708\n",
      "==============================================================================\n",
      "Omnibus:                        0.666   Durbin-Watson:                   1.912\n",
      "Prob(Omnibus):                  0.717   Jarque-Bera (JB):                0.749\n",
      "Skew:                           0.092   Prob(JB):                        0.688\n",
      "Kurtosis:                       2.895   Cond. No.                         607.\n",
      "==============================================================================\n",
      "\n",
      "Notes:\n",
      "[1] Standard Errors assume that the covariance matrix of the errors is correctly specified.\n"
     ]
    }
   ],
   "source": [
    "X = data[['Price', 'US']]\n",
    "Y = data['Sales']\n",
    "\n",
    "X_t = sm.add_constant(X)\n",
    "reg = sm.OLS(Y, X_t).fit() # Linear Regression\n",
    "print(reg.summary())"
   ],
   "metadata": {
    "collapsed": false,
    "ExecuteTime": {
     "end_time": "2023-10-04T08:45:11.447681Z",
     "start_time": "2023-10-04T08:45:11.405571Z"
    }
   },
   "id": "4c51c4ae8971c07c"
  },
  {
   "cell_type": "markdown",
   "source": [
    "Problem 2 : (a)"
   ],
   "metadata": {
    "collapsed": false
   },
   "id": "8b1f89aef971b7a8"
  },
  {
   "cell_type": "code",
   "execution_count": 18,
   "outputs": [],
   "source": [
    "import pandas as pd\n",
    "import random\n",
    "import statsmodels.api as sm\n",
    "import numpy as np\n",
    "from sklearn.metrics import confusion_matrix\n",
    "from sklearn.metrics import accuracy_score\n",
    "from sklearn.model_selection import train_test_split\n",
    "from sklearn.metrics import roc_auc_score"
   ],
   "metadata": {
    "collapsed": false,
    "ExecuteTime": {
     "end_time": "2023-10-04T12:28:57.144092Z",
     "start_time": "2023-10-04T12:28:57.107339Z"
    }
   },
   "id": "83e4dc581dce1504"
  },
  {
   "cell_type": "code",
   "execution_count": 33,
   "outputs": [
    {
     "data": {
      "text/plain": "     default student      balance        income\n0         No      No   729.526495  44361.625074\n1         No     Yes   817.180407  12106.134700\n2         No      No  1073.549164  31767.138947\n3         No      No   529.250605  35704.493935\n4         No      No   785.655883  38463.495879\n...      ...     ...          ...           ...\n9995      No      No   711.555020  52992.378914\n9996      No      No   757.962918  19660.721768\n9997      No      No   845.411989  58636.156984\n9998      No      No  1569.009053  36669.112365\n9999      No     Yes   200.922183  16862.952321\n\n[10000 rows x 4 columns]",
      "text/html": "<div>\n<style scoped>\n    .dataframe tbody tr th:only-of-type {\n        vertical-align: middle;\n    }\n\n    .dataframe tbody tr th {\n        vertical-align: top;\n    }\n\n    .dataframe thead th {\n        text-align: right;\n    }\n</style>\n<table border=\"1\" class=\"dataframe\">\n  <thead>\n    <tr style=\"text-align: right;\">\n      <th></th>\n      <th>default</th>\n      <th>student</th>\n      <th>balance</th>\n      <th>income</th>\n    </tr>\n  </thead>\n  <tbody>\n    <tr>\n      <th>0</th>\n      <td>No</td>\n      <td>No</td>\n      <td>729.526495</td>\n      <td>44361.625074</td>\n    </tr>\n    <tr>\n      <th>1</th>\n      <td>No</td>\n      <td>Yes</td>\n      <td>817.180407</td>\n      <td>12106.134700</td>\n    </tr>\n    <tr>\n      <th>2</th>\n      <td>No</td>\n      <td>No</td>\n      <td>1073.549164</td>\n      <td>31767.138947</td>\n    </tr>\n    <tr>\n      <th>3</th>\n      <td>No</td>\n      <td>No</td>\n      <td>529.250605</td>\n      <td>35704.493935</td>\n    </tr>\n    <tr>\n      <th>4</th>\n      <td>No</td>\n      <td>No</td>\n      <td>785.655883</td>\n      <td>38463.495879</td>\n    </tr>\n    <tr>\n      <th>...</th>\n      <td>...</td>\n      <td>...</td>\n      <td>...</td>\n      <td>...</td>\n    </tr>\n    <tr>\n      <th>9995</th>\n      <td>No</td>\n      <td>No</td>\n      <td>711.555020</td>\n      <td>52992.378914</td>\n    </tr>\n    <tr>\n      <th>9996</th>\n      <td>No</td>\n      <td>No</td>\n      <td>757.962918</td>\n      <td>19660.721768</td>\n    </tr>\n    <tr>\n      <th>9997</th>\n      <td>No</td>\n      <td>No</td>\n      <td>845.411989</td>\n      <td>58636.156984</td>\n    </tr>\n    <tr>\n      <th>9998</th>\n      <td>No</td>\n      <td>No</td>\n      <td>1569.009053</td>\n      <td>36669.112365</td>\n    </tr>\n    <tr>\n      <th>9999</th>\n      <td>No</td>\n      <td>Yes</td>\n      <td>200.922183</td>\n      <td>16862.952321</td>\n    </tr>\n  </tbody>\n</table>\n<p>10000 rows × 4 columns</p>\n</div>"
     },
     "execution_count": 33,
     "metadata": {},
     "output_type": "execute_result"
    }
   ],
   "source": [
    "data = pd.read_csv('Default.csv')\n",
    "data"
   ],
   "metadata": {
    "collapsed": false,
    "ExecuteTime": {
     "end_time": "2023-10-04T13:06:13.485671Z",
     "start_time": "2023-10-04T13:06:13.454181Z"
    }
   },
   "id": "50f78796f04ebc1b"
  },
  {
   "cell_type": "code",
   "execution_count": 34,
   "outputs": [
    {
     "data": {
      "text/plain": "       balance        income\n0   729.526495  44361.625074\n1   817.180407  12106.134700\n2  1073.549164  31767.138947\n3   529.250605  35704.493935\n4   785.655883  38463.495879",
      "text/html": "<div>\n<style scoped>\n    .dataframe tbody tr th:only-of-type {\n        vertical-align: middle;\n    }\n\n    .dataframe tbody tr th {\n        vertical-align: top;\n    }\n\n    .dataframe thead th {\n        text-align: right;\n    }\n</style>\n<table border=\"1\" class=\"dataframe\">\n  <thead>\n    <tr style=\"text-align: right;\">\n      <th></th>\n      <th>balance</th>\n      <th>income</th>\n    </tr>\n  </thead>\n  <tbody>\n    <tr>\n      <th>0</th>\n      <td>729.526495</td>\n      <td>44361.625074</td>\n    </tr>\n    <tr>\n      <th>1</th>\n      <td>817.180407</td>\n      <td>12106.134700</td>\n    </tr>\n    <tr>\n      <th>2</th>\n      <td>1073.549164</td>\n      <td>31767.138947</td>\n    </tr>\n    <tr>\n      <th>3</th>\n      <td>529.250605</td>\n      <td>35704.493935</td>\n    </tr>\n    <tr>\n      <th>4</th>\n      <td>785.655883</td>\n      <td>38463.495879</td>\n    </tr>\n  </tbody>\n</table>\n</div>"
     },
     "execution_count": 34,
     "metadata": {},
     "output_type": "execute_result"
    }
   ],
   "source": [
    "# Step 1 : Split the sample set into a training set and a validation set.\n",
    "\n",
    "X = data[['balance', 'income']]  \n",
    "Y = data['default'] \n",
    "\n",
    "Y = pd.get_dummies(Y, drop_first = True)\n",
    "X.head()"
   ],
   "metadata": {
    "collapsed": false,
    "ExecuteTime": {
     "end_time": "2023-10-04T13:06:17.579754Z",
     "start_time": "2023-10-04T13:06:17.554020Z"
    }
   },
   "id": "a7286f7b30cd68fe"
  },
  {
   "cell_type": "code",
   "execution_count": 35,
   "outputs": [
    {
     "data": {
      "text/plain": "   Yes\n0    0\n1    0\n2    0\n3    0\n4    0",
      "text/html": "<div>\n<style scoped>\n    .dataframe tbody tr th:only-of-type {\n        vertical-align: middle;\n    }\n\n    .dataframe tbody tr th {\n        vertical-align: top;\n    }\n\n    .dataframe thead th {\n        text-align: right;\n    }\n</style>\n<table border=\"1\" class=\"dataframe\">\n  <thead>\n    <tr style=\"text-align: right;\">\n      <th></th>\n      <th>Yes</th>\n    </tr>\n  </thead>\n  <tbody>\n    <tr>\n      <th>0</th>\n      <td>0</td>\n    </tr>\n    <tr>\n      <th>1</th>\n      <td>0</td>\n    </tr>\n    <tr>\n      <th>2</th>\n      <td>0</td>\n    </tr>\n    <tr>\n      <th>3</th>\n      <td>0</td>\n    </tr>\n    <tr>\n      <th>4</th>\n      <td>0</td>\n    </tr>\n  </tbody>\n</table>\n</div>"
     },
     "execution_count": 35,
     "metadata": {},
     "output_type": "execute_result"
    }
   ],
   "source": [
    "Y.head()"
   ],
   "metadata": {
    "collapsed": false,
    "ExecuteTime": {
     "end_time": "2023-10-04T13:06:21.675417Z",
     "start_time": "2023-10-04T13:06:21.658961Z"
    }
   },
   "id": "b79689f3ef128764"
  },
  {
   "cell_type": "code",
   "execution_count": 36,
   "outputs": [
    {
     "name": "stdout",
     "output_type": "stream",
     "text": [
      "Training Data :  8000\n",
      "Test Data :  2000\n"
     ]
    }
   ],
   "source": [
    "X_train, X_test, Y_train, Y_test = train_test_split(X, Y, test_size=0.2, random_state=42)\n",
    "print(\"Training Data : \",len(X_train))\n",
    "print(\"Test Data : \",len(X_test))"
   ],
   "metadata": {
    "collapsed": false,
    "ExecuteTime": {
     "end_time": "2023-10-04T13:06:25.433533Z",
     "start_time": "2023-10-04T13:06:25.406649Z"
    }
   },
   "id": "1ffa766d985e2dd1"
  },
  {
   "cell_type": "code",
   "execution_count": 37,
   "outputs": [
    {
     "name": "stdout",
     "output_type": "stream",
     "text": [
      "Optimization terminated successfully.\n",
      "         Current function value: inf\n",
      "         Iterations 10\n",
      "                           Logit Regression Results                           \n",
      "==============================================================================\n",
      "Dep. Variable:                    Yes   No. Observations:                 8000\n",
      "Model:                          Logit   Df Residuals:                     7997\n",
      "Method:                           MLE   Df Model:                            2\n",
      "Date:                Wed, 04 Oct 2023   Pseudo R-squ.:                     inf\n",
      "Time:                        22:06:27   Log-Likelihood:                   -inf\n",
      "converged:                       True   LL-Null:                        0.0000\n",
      "Covariance Type:            nonrobust   LLR p-value:                     1.000\n",
      "==============================================================================\n",
      "                 coef    std err          z      P>|z|      [0.025      0.975]\n",
      "------------------------------------------------------------------------------\n",
      "const        -11.8297      0.506    -23.387      0.000     -12.821     -10.838\n",
      "balance        0.0058      0.000     22.038      0.000       0.005       0.006\n",
      "income      2.075e-05   5.64e-06      3.682      0.000    9.71e-06    3.18e-05\n",
      "==============================================================================\n",
      "\n",
      "Possibly complete quasi-separation: A fraction 0.16 of observations can be\n",
      "perfectly predicted. This might indicate that there is complete\n",
      "quasi-separation. In this case some parameters will not be identified.\n"
     ]
    },
    {
     "name": "stderr",
     "output_type": "stream",
     "text": [
      "/Users/j/anaconda3/lib/python3.11/site-packages/statsmodels/discrete/discrete_model.py:2383: RuntimeWarning: overflow encountered in exp\n",
      "  return 1/(1+np.exp(-X))\n",
      "/Users/j/anaconda3/lib/python3.11/site-packages/statsmodels/discrete/discrete_model.py:2441: RuntimeWarning: divide by zero encountered in log\n",
      "  return np.sum(np.log(self.cdf(q * linpred)))\n",
      "/Users/j/anaconda3/lib/python3.11/site-packages/statsmodels/base/model.py:595: HessianInversionWarning: Inverting hessian failed, no bse or cov_params available\n",
      "  warnings.warn('Inverting hessian failed, no bse or cov_params '\n",
      "/Users/j/anaconda3/lib/python3.11/site-packages/statsmodels/base/model.py:595: HessianInversionWarning: Inverting hessian failed, no bse or cov_params available\n",
      "  warnings.warn('Inverting hessian failed, no bse or cov_params '\n"
     ]
    }
   ],
   "source": [
    "# Step 2 : Fit a multiple logistic regression model using only the training observations.\n",
    "\n",
    "X_train = sm.add_constant(X_train)\n",
    "model = sm.Logit(Y_train, X_train).fit() \n",
    "print(model.summary())"
   ],
   "metadata": {
    "collapsed": false,
    "ExecuteTime": {
     "end_time": "2023-10-04T13:06:27.811814Z",
     "start_time": "2023-10-04T13:06:27.691435Z"
    }
   },
   "id": "2b7627252b2a2ad6"
  },
  {
   "cell_type": "code",
   "execution_count": 38,
   "outputs": [
    {
     "data": {
      "text/plain": "6252    0.055644\n4684    0.001548\n1731    0.000011\n4742    0.000028\n4521    0.052137\n          ...   \n6412    0.050064\n8285    0.003913\n7853    0.000014\n1095    0.027754\n6929    0.000116\nLength: 2000, dtype: float64"
     },
     "execution_count": 38,
     "metadata": {},
     "output_type": "execute_result"
    }
   ],
   "source": [
    "# Step 3 : Obtain a prediction of default status for each individual in the validation set\n",
    "\n",
    "X_test = sm.add_constant(X_test)\n",
    "pred = model.predict(X_test) \n",
    "pred"
   ],
   "metadata": {
    "collapsed": false,
    "ExecuteTime": {
     "end_time": "2023-10-04T13:06:30.707980Z",
     "start_time": "2023-10-04T13:06:30.682803Z"
    }
   },
   "id": "ff668ba80d1f27a5"
  },
  {
   "cell_type": "code",
   "execution_count": 39,
   "outputs": [
    {
     "data": {
      "text/plain": "6252    0\n4684    0\n1731    0\n4742    0\n4521    0\n       ..\n6412    0\n8285    0\n7853    0\n1095    0\n6929    0\nLength: 2000, dtype: int64"
     },
     "execution_count": 39,
     "metadata": {},
     "output_type": "execute_result"
    }
   ],
   "source": [
    "# classify the individual to the default category if the posterior probability is greater than 0.5\n",
    "threshold = 0.5\n",
    "Y_pred = (pred > threshold).astype(int)\n",
    "Y_pred"
   ],
   "metadata": {
    "collapsed": false,
    "ExecuteTime": {
     "end_time": "2023-10-04T13:06:33.307478Z",
     "start_time": "2023-10-04T13:06:33.299350Z"
    }
   },
   "id": "2f37da28f70382f8"
  },
  {
   "cell_type": "code",
   "execution_count": 40,
   "outputs": [
    {
     "data": {
      "text/plain": "0.03049999999999997"
     },
     "execution_count": 40,
     "metadata": {},
     "output_type": "execute_result"
    }
   ],
   "source": [
    "# Step 4 : Compute the validation set error\n",
    "1 - accuracy_score(Y_test, Y_pred)"
   ],
   "metadata": {
    "collapsed": false,
    "ExecuteTime": {
     "end_time": "2023-10-04T13:16:18.198617Z",
     "start_time": "2023-10-04T13:16:18.186341Z"
    }
   },
   "id": "917e59da54ad884"
  },
  {
   "cell_type": "code",
   "execution_count": 42,
   "outputs": [
    {
     "data": {
      "text/plain": "array([[1921,   10],\n       [  51,   18]])"
     },
     "execution_count": 42,
     "metadata": {},
     "output_type": "execute_result"
    }
   ],
   "source": [
    "confusion_matrix(Y_test, Y_pred)"
   ],
   "metadata": {
    "collapsed": false,
    "ExecuteTime": {
     "end_time": "2023-10-04T13:17:03.285284Z",
     "start_time": "2023-10-04T13:17:03.273129Z"
    }
   },
   "id": "1f85a34007af794d"
  },
  {
   "cell_type": "markdown",
   "source": [
    "Problem 2 : (c) K fold CV"
   ],
   "metadata": {
    "collapsed": false
   },
   "id": "7b2a177fdde0a1d7"
  },
  {
   "cell_type": "code",
   "execution_count": 56,
   "outputs": [],
   "source": [
    "# shuffle - split - run on each split\n",
    "# before passing data to function, convert to dummy variables first\n",
    "\n",
    "def K_Fold_CV (X, Y, k) :\n",
    "    \n",
    "    np.random.seed(42) # set seed\n",
    "    shuffled_index = np.random.permutation(len(X))\n",
    "    X = X.iloc[shuffled_index] # data shuffling\n",
    "    Y = Y.iloc[shuffled_index]\n",
    "        \n",
    "    shuffled_X = X.reset_index(drop=True) # reset index\n",
    "    shuffled_Y = Y.reset_index(drop=True) \n",
    "    \n",
    "    # ex) k = 5     \n",
    "    fold_size = int(len(X) / k)     # num of data in each fold\n",
    "    split_point = [fold_size * i for i in range(k)]\n",
    "    split_point.append(len(X))\n",
    "    \n",
    "    step_errors = []    # to store each step errors\n",
    "    index = [i for i in range(len(shuffled_X))]\n",
    "    \n",
    "    # K-fold CV\n",
    "    for i in range (k) :\n",
    "        print(\"Cross Validation #{} : ----------\".format(i+1))\n",
    "        \n",
    "        # split train and val data\n",
    "        val_idx = index[split_point[i] : split_point[i+1]]\n",
    "        X_val = shuffled_X.iloc[val_idx]\n",
    "        Y_val = shuffled_Y.iloc[val_idx]\n",
    "        \n",
    "        train_idx = [idx for idx in index if idx not in val_idx]\n",
    "        X_train = shuffled_X.iloc[train_idx]\n",
    "        Y_train = shuffled_Y.iloc[train_idx]\n",
    "        \n",
    "        # add constant\n",
    "        X_train = sm.add_constant(X_train)\n",
    "        X_val = sm.add_constant(X_val)\n",
    "        \n",
    "        # train\n",
    "        model = sm.Logit(Y_train, X_train).fit() # logistic regression model\n",
    "        pred = model.predict(X_val)\n",
    "        threshold = 0.5\n",
    "        Y_pred = (pred > threshold).astype(int)\n",
    "        \n",
    "        # get errors\n",
    "        error_rate = 1 - accuracy_score(Y_val, Y_pred)\n",
    "        step_errors.append(error_rate)\n",
    "        print(\"Error : \", error_rate)\n",
    "                    \n",
    "    return sum(step_errors) / float(k)  "
   ],
   "metadata": {
    "collapsed": false,
    "ExecuteTime": {
     "end_time": "2023-10-05T06:01:44.391262Z",
     "start_time": "2023-10-05T06:01:44.372793Z"
    }
   },
   "id": "d9e52482046d442e"
  },
  {
   "cell_type": "code",
   "execution_count": 58,
   "outputs": [],
   "source": [
    "import warnings\n",
    "warnings.filterwarnings('ignore')"
   ],
   "metadata": {
    "collapsed": false,
    "ExecuteTime": {
     "end_time": "2023-10-05T06:03:15.748240Z",
     "start_time": "2023-10-05T06:03:15.740810Z"
    }
   },
   "id": "b2942176184ef8ba"
  },
  {
   "cell_type": "code",
   "execution_count": 59,
   "outputs": [
    {
     "name": "stdout",
     "output_type": "stream",
     "text": [
      "Cross Validation #1 : ----------\n",
      "Optimization terminated successfully.\n",
      "         Current function value: inf\n",
      "         Iterations 10\n",
      "Error :  0.03049999999999997\n",
      "Cross Validation #2 : ----------\n",
      "Optimization terminated successfully.\n",
      "         Current function value: inf\n",
      "         Iterations 10\n",
      "Error :  0.024499999999999966\n",
      "Cross Validation #3 : ----------\n",
      "Optimization terminated successfully.\n",
      "         Current function value: inf\n",
      "         Iterations 10\n",
      "Error :  0.022499999999999964\n",
      "Cross Validation #4 : ----------\n",
      "Optimization terminated successfully.\n",
      "         Current function value: inf\n",
      "         Iterations 10\n",
      "Error :  0.029000000000000026\n",
      "Cross Validation #5 : ----------\n",
      "Optimization terminated successfully.\n",
      "         Current function value: inf\n",
      "         Iterations 10\n",
      "Error :  0.025000000000000022\n",
      "0.02629999999999999\n"
     ]
    }
   ],
   "source": [
    "# Perform 5-fold CV with 'balance', income\n",
    "data = pd.read_csv('Default.csv')\n",
    "X = data[['balance', 'income']]  \n",
    "Y = data['default'] \n",
    "Y = pd.get_dummies(Y, drop_first = True)\n",
    "\n",
    "print(K_Fold_CV(X, Y, 5))"
   ],
   "metadata": {
    "collapsed": false,
    "ExecuteTime": {
     "end_time": "2023-10-05T06:03:19.197194Z",
     "start_time": "2023-10-05T06:03:17.999310Z"
    }
   },
   "id": "2b17bf2d024be988"
  },
  {
   "cell_type": "markdown",
   "source": [
    "Problem 2 : (d) CV with 'student' variable"
   ],
   "metadata": {
    "collapsed": false
   },
   "id": "ecc423d8b24c6f4d"
  },
  {
   "cell_type": "code",
   "execution_count": 64,
   "outputs": [],
   "source": [
    "# Perform 5-fold CV with additional feature 'student'\n",
    "data = pd.read_csv('Default.csv')\n",
    "data = pd.get_dummies(data, columns=['student', 'default'], drop_first=True)"
   ],
   "metadata": {
    "collapsed": false,
    "ExecuteTime": {
     "end_time": "2023-10-05T06:44:14.247911Z",
     "start_time": "2023-10-05T06:44:14.225100Z"
    }
   },
   "id": "bc60370a4f321cc7"
  },
  {
   "cell_type": "code",
   "execution_count": 65,
   "outputs": [
    {
     "data": {
      "text/plain": "          balance        income  student  default\n0      729.526495  44361.625074        0        0\n1      817.180407  12106.134700        1        0\n2     1073.549164  31767.138947        0        0\n3      529.250605  35704.493935        0        0\n4      785.655883  38463.495879        0        0\n...           ...           ...      ...      ...\n9995   711.555020  52992.378914        0        0\n9996   757.962918  19660.721768        0        0\n9997   845.411989  58636.156984        0        0\n9998  1569.009053  36669.112365        0        0\n9999   200.922183  16862.952321        1        0\n\n[10000 rows x 4 columns]",
      "text/html": "<div>\n<style scoped>\n    .dataframe tbody tr th:only-of-type {\n        vertical-align: middle;\n    }\n\n    .dataframe tbody tr th {\n        vertical-align: top;\n    }\n\n    .dataframe thead th {\n        text-align: right;\n    }\n</style>\n<table border=\"1\" class=\"dataframe\">\n  <thead>\n    <tr style=\"text-align: right;\">\n      <th></th>\n      <th>balance</th>\n      <th>income</th>\n      <th>student</th>\n      <th>default</th>\n    </tr>\n  </thead>\n  <tbody>\n    <tr>\n      <th>0</th>\n      <td>729.526495</td>\n      <td>44361.625074</td>\n      <td>0</td>\n      <td>0</td>\n    </tr>\n    <tr>\n      <th>1</th>\n      <td>817.180407</td>\n      <td>12106.134700</td>\n      <td>1</td>\n      <td>0</td>\n    </tr>\n    <tr>\n      <th>2</th>\n      <td>1073.549164</td>\n      <td>31767.138947</td>\n      <td>0</td>\n      <td>0</td>\n    </tr>\n    <tr>\n      <th>3</th>\n      <td>529.250605</td>\n      <td>35704.493935</td>\n      <td>0</td>\n      <td>0</td>\n    </tr>\n    <tr>\n      <th>4</th>\n      <td>785.655883</td>\n      <td>38463.495879</td>\n      <td>0</td>\n      <td>0</td>\n    </tr>\n    <tr>\n      <th>...</th>\n      <td>...</td>\n      <td>...</td>\n      <td>...</td>\n      <td>...</td>\n    </tr>\n    <tr>\n      <th>9995</th>\n      <td>711.555020</td>\n      <td>52992.378914</td>\n      <td>0</td>\n      <td>0</td>\n    </tr>\n    <tr>\n      <th>9996</th>\n      <td>757.962918</td>\n      <td>19660.721768</td>\n      <td>0</td>\n      <td>0</td>\n    </tr>\n    <tr>\n      <th>9997</th>\n      <td>845.411989</td>\n      <td>58636.156984</td>\n      <td>0</td>\n      <td>0</td>\n    </tr>\n    <tr>\n      <th>9998</th>\n      <td>1569.009053</td>\n      <td>36669.112365</td>\n      <td>0</td>\n      <td>0</td>\n    </tr>\n    <tr>\n      <th>9999</th>\n      <td>200.922183</td>\n      <td>16862.952321</td>\n      <td>1</td>\n      <td>0</td>\n    </tr>\n  </tbody>\n</table>\n<p>10000 rows × 4 columns</p>\n</div>"
     },
     "execution_count": 65,
     "metadata": {},
     "output_type": "execute_result"
    }
   ],
   "source": [
    "data = data.rename(columns={'student_Yes': 'student', 'default_Yes': 'default'})\n",
    "data"
   ],
   "metadata": {
    "collapsed": false,
    "ExecuteTime": {
     "end_time": "2023-10-05T06:44:15.418535Z",
     "start_time": "2023-10-05T06:44:15.405454Z"
    }
   },
   "id": "f2e5b7b8221a0ff5"
  },
  {
   "cell_type": "code",
   "execution_count": 66,
   "outputs": [
    {
     "name": "stdout",
     "output_type": "stream",
     "text": [
      "Cross Validation #1 : ----------\n",
      "Optimization terminated successfully.\n",
      "         Current function value: inf\n",
      "         Iterations 10\n",
      "Error :  0.03049999999999997\n",
      "Cross Validation #2 : ----------\n",
      "Optimization terminated successfully.\n",
      "         Current function value: inf\n",
      "         Iterations 10\n",
      "Error :  0.025000000000000022\n",
      "Cross Validation #3 : ----------\n",
      "Optimization terminated successfully.\n",
      "         Current function value: inf\n",
      "         Iterations 10\n",
      "Error :  0.02300000000000002\n",
      "Cross Validation #4 : ----------\n",
      "Optimization terminated successfully.\n",
      "         Current function value: inf\n",
      "         Iterations 10\n",
      "Error :  0.02949999999999997\n",
      "Cross Validation #5 : ----------\n",
      "Optimization terminated successfully.\n",
      "         Current function value: inf\n",
      "         Iterations 10\n",
      "Error :  0.026499999999999968\n",
      "0.02689999999999999\n"
     ]
    }
   ],
   "source": [
    "X = data[['balance', 'income', 'student']]  \n",
    "Y = data['default'] \n",
    "\n",
    "print(K_Fold_CV(X, Y, 5))"
   ],
   "metadata": {
    "collapsed": false,
    "ExecuteTime": {
     "end_time": "2023-10-05T06:44:19.464596Z",
     "start_time": "2023-10-05T06:44:18.368775Z"
    }
   },
   "id": "42681e71209773c5"
  },
  {
   "cell_type": "code",
   "execution_count": null,
   "outputs": [],
   "source": [],
   "metadata": {
    "collapsed": false
   },
   "id": "6188b3462cbead6e"
  }
 ],
 "metadata": {
  "kernelspec": {
   "display_name": "Python 3",
   "language": "python",
   "name": "python3"
  },
  "language_info": {
   "codemirror_mode": {
    "name": "ipython",
    "version": 2
   },
   "file_extension": ".py",
   "mimetype": "text/x-python",
   "name": "python",
   "nbconvert_exporter": "python",
   "pygments_lexer": "ipython2",
   "version": "2.7.6"
  }
 },
 "nbformat": 4,
 "nbformat_minor": 5
}
